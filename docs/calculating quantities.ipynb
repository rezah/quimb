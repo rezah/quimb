{
 "cells": [
  {
   "cell_type": "markdown",
   "metadata": {
    "raw_mimetype": "text/restructuredtext"
   },
   "source": [
    "# Calculating Quantities\n",
    "\n",
    "There are various built-in functions to calculate quantities, not limited to:\n",
    "\n",
    "- {func}`~quimb.calc.fidelity`\n",
    "- {func}`~quimb.calc.purify`\n",
    "- {func}`~quimb.calc.dephase`\n",
    "- {func}`~quimb.calc.kraus_op`\n",
    "- {func}`~quimb.calc.projector`\n",
    "- {func}`~quimb.calc.measure`\n",
    "- {func}`~quimb.calc.cprint`\n",
    "- {func}`~quimb.calc.entropy`\n",
    "- {func}`~quimb.calc.mutinf`\n",
    "- {func}`~quimb.calc.mutinf_subsys`\n",
    "- {func}`~quimb.calc.schmidt_gap`\n",
    "- {func}`~quimb.calc.tr_sqrt`\n",
    "- {func}`~quimb.calc.partial_transpose`\n",
    "- {func}`~quimb.calc.logneg`\n",
    "- {func}`~quimb.calc.logneg_subsys`\n",
    "- {func}`~quimb.calc.negativity`\n",
    "- {func}`~quimb.calc.concurrence`\n",
    "- {func}`~quimb.calc.one_way_classical_information`\n",
    "- {func}`~quimb.calc.quantum_discord`\n",
    "- {func}`~quimb.calc.trace_distance`\n",
    "- {func}`~quimb.calc.decomp`\n",
    "- {func}`~quimb.calc.correlation`\n",
    "- {func}`~quimb.calc.pauli_correlations`\n",
    "- {func}`~quimb.calc.ent_cross_matrix`\n",
    "- {func}`~quimb.calc.is_degenerate`\n",
    "- {func}`~quimb.calc.is_eigenvector`\n",
    "- {func}`~quimb.calc.page_entropy`\n",
    "- {func}`~quimb.calc.heisenberg_energy`\n",
    "\n",
    "## Approximate Spectral Functions\n",
    "\n",
    "The module {py:mod}`~quimb.linalg.approx_spectral`, contains a Lanczos method for estimating any quantities of the form `tr(fn(A))`. Where `A` is any operator that implements a dot product with a vector. For example, estimating the trace of the sqrt of a matrix would naievly require diagonalising it:"
   ]
  },
  {
   "cell_type": "code",
   "execution_count": 1,
   "metadata": {},
   "outputs": [
    {
     "data": {
      "text/plain": [
       "54.321684719154966"
      ]
     },
     "execution_count": 1,
     "metadata": {},
     "output_type": "execute_result"
    }
   ],
   "source": [
    "import quimb as qu\n",
    "\n",
    "rho = qu.rand_rho(2**12)\n",
    "rho_el = qu.eigvalsh(rho)\n",
    "sum(rho_el ** 0.5)"
   ]
  },
  {
   "cell_type": "code",
   "execution_count": 2,
   "metadata": {},
   "outputs": [
    {
     "data": {
      "text/plain": [
       "54.00283979240904"
      ]
     },
     "execution_count": 2,
     "metadata": {},
     "output_type": "execute_result"
    }
   ],
   "source": [
    "qu.tr_sqrt_approx(rho)"
   ]
  },
  {
   "cell_type": "markdown",
   "metadata": {
    "raw_mimetype": "text/restructuredtext"
   },
   "source": [
    "Diagonalization has a cost of `O(n^3)`, which is essentially reduced\n",
    "to `O(k * n^2)` for this stochastic method. For a general function\n",
    "{func}`~quimb.linalg.approx_spectral.approx_spectral_function` can be used.\n",
    "\n",
    "However, the real advantage occurs when the full matrix does not need to be fully represented, e.g. in the case of 'partial trace states'. One can then calculate quantities for subsystems that would not be possible to explicitly represent.\n",
    "\n",
    "For example, the partial trace, followed by partial transpose, followed by vector multiplication can be 'lazily' evaluated as a tensor contraction (see {py:func}`~quimb.linalg.approx_spectral.lazy_ptr_ppt_dot`). In this way the logarithmic negativity of subsytems can be efficiently calculated:"
   ]
  },
  {
   "cell_type": "code",
   "execution_count": 3,
   "metadata": {},
   "outputs": [
    {
     "data": {
      "text/plain": [
       "5.743478523097124"
      ]
     },
     "execution_count": 3,
     "metadata": {},
     "output_type": "execute_result"
    }
   ],
   "source": [
    "psi = qu.rand_ket(2**20)\n",
    "dims = [2**8, 2**4, 2**8]\n",
    "qu.logneg_subsys_approx(psi, dims, sysa=0, sysb=2)"
   ]
  },
  {
   "cell_type": "markdown",
   "metadata": {
    "raw_mimetype": "text/restructuredtext"
   },
   "source": [
    "Under the hood, this method makes use of {mod}`quimb.tensor` functionality, which allows [various tensor contraction backends](http://optimized-einsum.readthedocs.io/en/latest/backends.html) to be used (see {func}`~quimb.tensor.tensor_core.set_tensor_linop_backend`). These types of computation are particularly suited to the GPU and therefore if [cupy](https://cupy.chainer.org) is installed it will be used automatically:"
   ]
  },
  {
   "cell_type": "code",
   "execution_count": 4,
   "metadata": {},
   "outputs": [
    {
     "name": "stdout",
     "output_type": "stream",
     "text": [
      "2.21 s ± 194 ms per loop (mean ± std. dev. of 7 runs, 1 loop each)\n"
     ]
    }
   ],
   "source": [
    "%timeit qu.logneg_subsys_approx(psi, dims, sysa=0, sysb=2, backend='numpy')"
   ]
  },
  {
   "cell_type": "code",
   "execution_count": 5,
   "metadata": {},
   "outputs": [
    {
     "name": "stdout",
     "output_type": "stream",
     "text": [
      "111 ms ± 6.78 ms per loop (mean ± std. dev. of 7 runs, 1 loop each)\n"
     ]
    }
   ],
   "source": [
    "%timeit qu.logneg_subsys_approx(psi, dims, sysa=0, sysb=2, backend='cupy')"
   ]
  }
 ],
 "metadata": {
  "celltoolbar": "Raw Cell Format",
  "kernelspec": {
   "display_name": "Python 3.10.8 ('numpy')",
   "language": "python",
   "name": "python3"
  },
  "language_info": {
   "codemirror_mode": {
    "name": "ipython",
    "version": 3
   },
   "file_extension": ".py",
   "mimetype": "text/x-python",
   "name": "python",
   "nbconvert_exporter": "python",
   "pygments_lexer": "ipython3",
   "version": "3.10.8 (main, Nov  4 2022, 13:48:29) [GCC 11.2.0]"
  },
  "vscode": {
   "interpreter": {
    "hash": "39c10650315d977fb13868ea1402e99f3e10e9885c2c202e692ae90b8995050d"
   }
  }
 },
 "nbformat": 4,
 "nbformat_minor": 2
}
