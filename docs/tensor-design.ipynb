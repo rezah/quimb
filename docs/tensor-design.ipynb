{
 "cells": [
  {
   "attachments": {},
   "cell_type": "markdown",
   "metadata": {
    "raw_mimetype": "text/restructuredtext"
   },
   "source": [
    "(tensor-network-design)=\n",
    "\n",
    "# Design\n",
    "\n",
    "The section contains some notes on the design of quimb's tensor network\n",
    "functionality that should be helpful for a) understanding how certain functions\n",
    "work better, and b) implementing more advanced functions or contributing to quimb."
   ]
  },
  {
   "cell_type": "code",
   "execution_count": 1,
   "metadata": {},
   "outputs": [],
   "source": [
    "%config InlineBackend.figure_formats = ['svg']\n",
    "\n",
    "# the main tensor and tensor network functionality\n",
    "import quimb.tensor as qtn\n",
    "\n",
    "# backend agnostic array functions\n",
    "from autoray import do"
   ]
  },
  {
   "cell_type": "markdown",
   "metadata": {
    "raw_mimetype": "text/restructuredtext"
   },
   "source": [
    "## `Tensor`\n",
    "\n",
    "The {class}`~quimb.tensor.tensor_core.Tensor` object, unsurprisingly,\n",
    "is the core object in `quimb.tensor`. It has three main attributes.\n",
    "\n",
    "### `Tensor.data`\n",
    "\n",
    "This is **any n-dimensional array looking object** (i.e. something with a\n",
    "`.shape` attribute). Whenever array functions are performed on a\n",
    "tensors `.data`, [autoray](https://github.com/jcmgray/autoray)\n",
    "is used to dispatch to the correct backend functions, so `quimb`\n",
    "itself does no explicit conversion of array backends."
   ]
  },
  {
   "cell_type": "code",
   "execution_count": 2,
   "metadata": {},
   "outputs": [],
   "source": [
    "data = do('random.uniform', size=(3, 4, 5), like='cupy')"
   ]
  },
  {
   "cell_type": "markdown",
   "metadata": {
    "raw_mimetype": "text/restructuredtext"
   },
   "source": [
    "Having said that, if the supplied `data` has no `.shape` attribute\n",
    "{func}`numpy.asarray` will be called on it.\n",
    "\n",
    "### `Tensor.inds`\n",
    "\n",
    "This is an **ordered tuple of index names** - one for each of the dimensions\n",
    "of `.data`. Functions that would normally require 'axes' to be specified\n",
    "instead can just use names, and these are propagated through all operations.\n",
    "For example, operations such as transposing the underyling array can just\n",
    "be done via reordering the `inds` of the tensor."
   ]
  },
  {
   "cell_type": "code",
   "execution_count": 3,
   "metadata": {},
   "outputs": [],
   "source": [
    "inds = ('a', 'b', 'c')"
   ]
  },
  {
   "cell_type": "markdown",
   "metadata": {
    "raw_mimetype": "text/restructuredtext"
   },
   "source": [
    "Moreover, the names of indices explicitly define the geometry of bonds\n",
    "(edges) in tensor networks at this local tensor level - there are no extra\n",
    "'index' objects and this information is thus completely local.\n",
    "\n",
    "### `Tensor.tags`\n",
    "\n",
    "These are an **ordered set** (quimb has a quick `dict` based implementation\n",
    "\\- {class}`~quimb.utils.oset`)  of **an arbitrary number of extra\n",
    "identifiers** for the tensor. The main use of these is that *within a\n",
    "tensor network* you can use any number of simultenous labelling schemes to\n",
    "identify your tensors with. You probably don't need to use any if just using\n",
    "raw tensors."
   ]
  },
  {
   "cell_type": "code",
   "execution_count": 4,
   "metadata": {},
   "outputs": [],
   "source": [
    "tags = qtn.oset(['hello', 'world'])"
   ]
  },
  {
   "cell_type": "markdown",
   "metadata": {
    "raw_mimetype": "text/restructuredtext"
   },
   "source": [
    ":::{note}\n",
    "{class}`~quimb.utils.oset` is used in many places across `quimb.tensor`\n",
    "**in order to make all operations deterministic**, unlike {class}`set`. You can\n",
    "supply any (ideally itself ordered) iterable to `tags` and it will\n",
    "be converted for you.\n",
    ":::\n",
    "\n",
    "## Creating & Contracting Tensors\n",
    "\n",
    "We can use our `data`, `inds` and (optional) `tags` to create a tensor:"
   ]
  },
  {
   "cell_type": "code",
   "execution_count": 5,
   "metadata": {},
   "outputs": [
    {
     "data": {
      "text/plain": [
       "Tensor(shape=(3, 4, 5), inds=('a', 'b', 'c'), tags=oset(['hello', 'world']))"
      ]
     },
     "execution_count": 5,
     "metadata": {},
     "output_type": "execute_result"
    }
   ],
   "source": [
    "T = qtn.Tensor(data=data, inds=inds, tags=tags)\n",
    "T"
   ]
  },
  {
   "cell_type": "code",
   "execution_count": 6,
   "metadata": {},
   "outputs": [
    {
     "data": {
      "image/svg+xml": "<?xml version=\"1.0\" encoding=\"utf-8\" standalone=\"no\"?>\n<!DOCTYPE svg PUBLIC \"-//W3C//DTD SVG 1.1//EN\"\n  \"http://www.w3.org/Graphics/SVG/1.1/DTD/svg11.dtd\">\n<svg xmlns:xlink=\"http://www.w3.org/1999/xlink\" width=\"440.39952pt\" height=\"331.138697pt\" viewBox=\"0 0 440.39952 331.138697\" xmlns=\"http://www.w3.org/2000/svg\" version=\"1.1\">\n <metadata>\n  <rdf:RDF xmlns:dc=\"http://purl.org/dc/elements/1.1/\" xmlns:cc=\"http://creativecommons.org/ns#\" xmlns:rdf=\"http://www.w3.org/1999/02/22-rdf-syntax-ns#\">\n   <cc:Work>\n    <dc:type rdf:resource=\"http://purl.org/dc/dcmitype/StillImage\"/>\n    <dc:date>2022-12-05T17:05:59.282995</dc:date>\n    <dc:format>image/svg+xml</dc:format>\n    <dc:creator>\n     <cc:Agent>\n      <dc:title>Matplotlib v3.5.3, https://matplotlib.org/</dc:title>\n     </cc:Agent>\n    </dc:creator>\n   </cc:Work>\n  </rdf:RDF>\n </metadata>\n <defs>\n  <style type=\"text/css\">*{stroke-linejoin: round; stroke-linecap: butt}</style>\n </defs>\n <g id=\"figure_1\">\n  <g id=\"patch_1\">\n   <path d=\"M 0 331.138697 \nL 440.39952 331.138697 \nL 440.39952 0 \nL 0 0 \nL 0 331.138697 \nz\n\" style=\"fill: none; opacity: 0\"/>\n  </g>\n  <g id=\"axes_1\">\n   <g id=\"LineCollection_1\">\n    <path d=\"M 182.257777 200.45086 \nL 59.182073 270.458631 \n\" clip-path=\"url(#p4f93a8ac5f)\" style=\"fill: none; stroke: #737880; stroke-opacity: 0.5; stroke-width: 1.584963\"/>\n    <path d=\"M 182.257777 200.45086 \nL 304.095572 271.956624 \n\" clip-path=\"url(#p4f93a8ac5f)\" style=\"fill: none; stroke: #737880; stroke-opacity: 0.5; stroke-width: 2\"/>\n    <path d=\"M 182.257777 200.45086 \nL 183.065413 59.182073 \n\" clip-path=\"url(#p4f93a8ac5f)\" style=\"fill: none; stroke: #737880; stroke-opacity: 0.5; stroke-width: 2.321928\"/>\n   </g>\n   <g id=\"PathCollection_1\">\n    <path d=\"M 182.257777 216.262248 \nC 186.451006 216.262248 190.473056 214.596261 193.438117 211.6312 \nC 196.403178 208.666139 198.069166 204.644089 198.069166 200.45086 \nC 198.069166 196.257631 196.403178 192.235581 193.438117 189.27052 \nC 190.473056 186.305459 186.451006 184.639472 182.257777 184.639472 \nC 178.064548 184.639472 174.042498 186.305459 171.077437 189.27052 \nC 168.112377 192.235581 166.446389 196.257631 166.446389 200.45086 \nC 166.446389 204.644089 168.112377 208.666139 171.077437 211.6312 \nC 174.042498 214.596261 178.064548 216.262248 182.257777 216.262248 \nz\n\" clip-path=\"url(#p4f93a8ac5f)\" style=\"fill: #56b4e9; stroke: #4590ba; stroke-width: 3\"/>\n   </g>\n   <g id=\"PathCollection_2\">\n    <path d=\"M 59.182073 270.458631 \nC 59.182073 270.458631 59.182073 270.458631 59.182073 270.458631 \nC 59.182073 270.458631 59.182073 270.458631 59.182073 270.458631 \nC 59.182073 270.458631 59.182073 270.458631 59.182073 270.458631 \nC 59.182073 270.458631 59.182073 270.458631 59.182073 270.458631 \nC 59.182073 270.458631 59.182073 270.458631 59.182073 270.458631 \nC 59.182073 270.458631 59.182073 270.458631 59.182073 270.458631 \nC 59.182073 270.458631 59.182073 270.458631 59.182073 270.458631 \nC 59.182073 270.458631 59.182073 270.458631 59.182073 270.458631 \nz\n\" clip-path=\"url(#p4f93a8ac5f)\" style=\"fill: #ffffff\"/>\n    <path d=\"M 304.095572 271.956624 \nC 304.095572 271.956624 304.095572 271.956624 304.095572 271.956624 \nC 304.095572 271.956624 304.095572 271.956624 304.095572 271.956624 \nC 304.095572 271.956624 304.095572 271.956624 304.095572 271.956624 \nC 304.095572 271.956624 304.095572 271.956624 304.095572 271.956624 \nC 304.095572 271.956624 304.095572 271.956624 304.095572 271.956624 \nC 304.095572 271.956624 304.095572 271.956624 304.095572 271.956624 \nC 304.095572 271.956624 304.095572 271.956624 304.095572 271.956624 \nC 304.095572 271.956624 304.095572 271.956624 304.095572 271.956624 \nz\n\" clip-path=\"url(#p4f93a8ac5f)\" style=\"fill: #ffffff\"/>\n    <path d=\"M 183.065413 59.182073 \nC 183.065413 59.182073 183.065413 59.182073 183.065413 59.182073 \nC 183.065413 59.182073 183.065413 59.182073 183.065413 59.182073 \nC 183.065413 59.182073 183.065413 59.182073 183.065413 59.182073 \nC 183.065413 59.182073 183.065413 59.182073 183.065413 59.182073 \nC 183.065413 59.182073 183.065413 59.182073 183.065413 59.182073 \nC 183.065413 59.182073 183.065413 59.182073 183.065413 59.182073 \nC 183.065413 59.182073 183.065413 59.182073 183.065413 59.182073 \nC 183.065413 59.182073 183.065413 59.182073 183.065413 59.182073 \nz\n\" clip-path=\"url(#p4f93a8ac5f)\" style=\"fill: #ffffff\"/>\n   </g>\n   <g id=\"text_1\">\n    <g clip-path=\"url(#p4f93a8ac5f)\">\n     <!-- hello, world -->\n     <g style=\"fill: #404040\" transform=\"translate(146.135902 203.236798)scale(0.1 -0.1)\">\n      <defs>\n       <path id=\"DejaVuSansMono-68\" d=\"M 3284 2169 \nL 3284 0 \nL 2706 0 \nL 2706 2169 \nQ 2706 2641 2540 2862 \nQ 2375 3084 2022 3084 \nQ 1619 3084 1401 2798 \nQ 1184 2513 1184 1978 \nL 1184 0 \nL 609 0 \nL 609 4863 \nL 1184 4863 \nL 1184 2975 \nQ 1338 3275 1600 3429 \nQ 1863 3584 2222 3584 \nQ 2756 3584 3020 3232 \nQ 3284 2881 3284 2169 \nz\n\" transform=\"scale(0.015625)\"/>\n       <path id=\"DejaVuSansMono-65\" d=\"M 3475 1894 \nL 3475 1613 \nL 984 1613 \nL 984 1594 \nQ 984 1022 1282 709 \nQ 1581 397 2125 397 \nQ 2400 397 2700 484 \nQ 3000 572 3341 750 \nL 3341 178 \nQ 3013 44 2708 -23 \nQ 2403 -91 2119 -91 \nQ 1303 -91 843 398 \nQ 384 888 384 1747 \nQ 384 2584 834 3084 \nQ 1284 3584 2034 3584 \nQ 2703 3584 3089 3131 \nQ 3475 2678 3475 1894 \nz\nM 2900 2063 \nQ 2888 2569 2661 2833 \nQ 2434 3097 2009 3097 \nQ 1594 3097 1325 2822 \nQ 1056 2547 1006 2059 \nL 2900 2063 \nz\n\" transform=\"scale(0.015625)\"/>\n       <path id=\"DejaVuSansMono-6c\" d=\"M 1997 1269 \nQ 1997 881 2139 684 \nQ 2281 488 2559 488 \nL 3231 488 \nL 3231 0 \nL 2503 0 \nQ 1988 0 1705 331 \nQ 1422 663 1422 1269 \nL 1422 4447 \nL 500 4447 \nL 500 4897 \nL 1997 4897 \nL 1997 1269 \nz\n\" transform=\"scale(0.015625)\"/>\n       <path id=\"DejaVuSansMono-6f\" d=\"M 1925 3097 \nQ 1488 3097 1263 2756 \nQ 1038 2416 1038 1747 \nQ 1038 1081 1263 739 \nQ 1488 397 1925 397 \nQ 2366 397 2591 739 \nQ 2816 1081 2816 1747 \nQ 2816 2416 2591 2756 \nQ 2366 3097 1925 3097 \nz\nM 1925 3584 \nQ 2653 3584 3039 3112 \nQ 3425 2641 3425 1747 \nQ 3425 850 3040 379 \nQ 2656 -91 1925 -91 \nQ 1197 -91 812 379 \nQ 428 850 428 1747 \nQ 428 2641 812 3112 \nQ 1197 3584 1925 3584 \nz\n\" transform=\"scale(0.015625)\"/>\n       <path id=\"DejaVuSansMono-2c\" d=\"M 1569 947 \nL 2356 947 \nL 2356 300 \nL 1741 -897 \nL 1259 -897 \nL 1569 300 \nL 1569 947 \nz\n\" transform=\"scale(0.015625)\"/>\n       <path id=\"DejaVuSansMono-20\" transform=\"scale(0.015625)\"/>\n       <path id=\"DejaVuSansMono-77\" d=\"M 0 3500 \nL 569 3500 \nL 1178 672 \nL 1678 2478 \nL 2169 2478 \nL 2675 672 \nL 3284 3500 \nL 3853 3500 \nL 3034 0 \nL 2484 0 \nL 1925 1919 \nL 1369 0 \nL 819 0 \nL 0 3500 \nz\n\" transform=\"scale(0.015625)\"/>\n       <path id=\"DejaVuSansMono-72\" d=\"M 3609 2778 \nQ 3425 2922 3234 2987 \nQ 3044 3053 2816 3053 \nQ 2278 3053 1993 2715 \nQ 1709 2378 1709 1741 \nL 1709 0 \nL 1131 0 \nL 1131 3500 \nL 1709 3500 \nL 1709 2816 \nQ 1853 3188 2151 3386 \nQ 2450 3584 2859 3584 \nQ 3072 3584 3256 3531 \nQ 3441 3478 3609 3366 \nL 3609 2778 \nz\n\" transform=\"scale(0.015625)\"/>\n       <path id=\"DejaVuSansMono-64\" d=\"M 2681 3053 \nL 2681 4863 \nL 3256 4863 \nL 3256 0 \nL 2681 0 \nL 2681 441 \nQ 2538 181 2298 45 \nQ 2059 -91 1747 -91 \nQ 1113 -91 748 401 \nQ 384 894 384 1759 \nQ 384 2613 750 3098 \nQ 1116 3584 1747 3584 \nQ 2063 3584 2303 3448 \nQ 2544 3313 2681 3053 \nz\nM 991 1747 \nQ 991 1078 1203 737 \nQ 1416 397 1831 397 \nQ 2247 397 2464 740 \nQ 2681 1084 2681 1747 \nQ 2681 2413 2464 2755 \nQ 2247 3097 1831 3097 \nQ 1416 3097 1203 2756 \nQ 991 2416 991 1747 \nz\n\" transform=\"scale(0.015625)\"/>\n      </defs>\n      <use xlink:href=\"#DejaVuSansMono-68\"/>\n      <use xlink:href=\"#DejaVuSansMono-65\" x=\"60.205078\"/>\n      <use xlink:href=\"#DejaVuSansMono-6c\" x=\"120.410156\"/>\n      <use xlink:href=\"#DejaVuSansMono-6c\" x=\"180.615234\"/>\n      <use xlink:href=\"#DejaVuSansMono-6f\" x=\"240.820312\"/>\n      <use xlink:href=\"#DejaVuSansMono-2c\" x=\"301.025391\"/>\n      <use xlink:href=\"#DejaVuSansMono-20\" x=\"361.230469\"/>\n      <use xlink:href=\"#DejaVuSansMono-77\" x=\"421.435547\"/>\n      <use xlink:href=\"#DejaVuSansMono-6f\" x=\"481.640625\"/>\n      <use xlink:href=\"#DejaVuSansMono-72\" x=\"541.845703\"/>\n      <use xlink:href=\"#DejaVuSansMono-6c\" x=\"602.050781\"/>\n      <use xlink:href=\"#DejaVuSansMono-64\" x=\"662.255859\"/>\n     </g>\n    </g>\n   </g>\n   <g id=\"text_2\">\n    <g clip-path=\"url(#p4f93a8ac5f)\">\n     <!-- a -->\n     <g style=\"fill: #404040\" transform=\"translate(56.171917 273.244569)scale(0.1 -0.1)\">\n      <defs>\n       <path id=\"DejaVuSansMono-61\" d=\"M 2194 1759 \nL 2003 1759 \nQ 1500 1759 1245 1582 \nQ 991 1406 991 1056 \nQ 991 741 1181 566 \nQ 1372 391 1709 391 \nQ 2184 391 2456 720 \nQ 2728 1050 2731 1631 \nL 2731 1759 \nL 2194 1759 \nz\nM 3309 1997 \nL 3309 0 \nL 2731 0 \nL 2731 519 \nQ 2547 206 2267 57 \nQ 1988 -91 1588 -91 \nQ 1053 -91 734 211 \nQ 416 513 416 1019 \nQ 416 1603 808 1906 \nQ 1200 2209 1959 2209 \nL 2731 2209 \nL 2731 2300 \nQ 2728 2719 2518 2908 \nQ 2309 3097 1850 3097 \nQ 1556 3097 1256 3012 \nQ 956 2928 672 2766 \nL 672 3341 \nQ 991 3463 1283 3523 \nQ 1575 3584 1850 3584 \nQ 2284 3584 2592 3456 \nQ 2900 3328 3091 3072 \nQ 3209 2916 3259 2686 \nQ 3309 2456 3309 1997 \nz\n\" transform=\"scale(0.015625)\"/>\n      </defs>\n      <use xlink:href=\"#DejaVuSansMono-61\"/>\n     </g>\n    </g>\n   </g>\n   <g id=\"text_3\">\n    <g clip-path=\"url(#p4f93a8ac5f)\">\n     <!-- c -->\n     <g style=\"fill: #404040\" transform=\"translate(180.055257 61.968011)scale(0.1 -0.1)\">\n      <defs>\n       <path id=\"DejaVuSansMono-63\" d=\"M 3316 178 \nQ 3084 44 2839 -23 \nQ 2594 -91 2338 -91 \nQ 1525 -91 1067 396 \nQ 609 884 609 1747 \nQ 609 2609 1067 3096 \nQ 1525 3584 2338 3584 \nQ 2591 3584 2831 3518 \nQ 3072 3453 3316 3316 \nL 3316 2713 \nQ 3088 2916 2858 3006 \nQ 2628 3097 2338 3097 \nQ 1797 3097 1506 2747 \nQ 1216 2397 1216 1747 \nQ 1216 1100 1508 748 \nQ 1800 397 2338 397 \nQ 2638 397 2875 489 \nQ 3113 581 3316 775 \nL 3316 178 \nz\n\" transform=\"scale(0.015625)\"/>\n      </defs>\n      <use xlink:href=\"#DejaVuSansMono-63\"/>\n     </g>\n    </g>\n   </g>\n   <g id=\"text_4\">\n    <g clip-path=\"url(#p4f93a8ac5f)\">\n     <!-- b -->\n     <g style=\"fill: #404040\" transform=\"translate(301.085416 274.742561)scale(0.1 -0.1)\">\n      <defs>\n       <path id=\"DejaVuSansMono-62\" d=\"M 2869 1747 \nQ 2869 2416 2656 2756 \nQ 2444 3097 2028 3097 \nQ 1609 3097 1393 2755 \nQ 1178 2413 1178 1747 \nQ 1178 1084 1393 740 \nQ 1609 397 2028 397 \nQ 2444 397 2656 737 \nQ 2869 1078 2869 1747 \nz\nM 1178 3053 \nQ 1316 3309 1558 3446 \nQ 1800 3584 2119 3584 \nQ 2750 3584 3112 3098 \nQ 3475 2613 3475 1759 \nQ 3475 894 3111 401 \nQ 2747 -91 2113 -91 \nQ 1800 -91 1561 45 \nQ 1322 181 1178 441 \nL 1178 0 \nL 603 0 \nL 603 4863 \nL 1178 4863 \nL 1178 3053 \nz\n\" transform=\"scale(0.015625)\"/>\n      </defs>\n      <use xlink:href=\"#DejaVuSansMono-62\"/>\n     </g>\n    </g>\n   </g>\n   <g id=\"legend_1\">\n    <g id=\"patch_2\">\n     <path d=\"M 363.077645 174.434974 \nL 431.19952 174.434974 \nQ 433.19952 174.434974 433.19952 172.434974 \nL 433.19952 158.703724 \nQ 433.19952 156.703724 431.19952 156.703724 \nL 363.077645 156.703724 \nQ 361.077645 156.703724 361.077645 158.703724 \nL 361.077645 172.434974 \nQ 361.077645 174.434974 363.077645 174.434974 \nL 363.077645 174.434974 \nz\n\" style=\"fill: none; stroke: #999999; stroke-opacity: 0.2; stroke-linejoin: miter\"/>\n    </g>\n    <g id=\"line2d_1\">\n     <defs>\n      <path id=\"mef1b00b46a\" d=\"M 0 5 \nC 1.326016 5 2.597899 4.473168 3.535534 3.535534 \nC 4.473168 2.597899 5 1.326016 5 0 \nC 5 -1.326016 4.473168 -2.597899 3.535534 -3.535534 \nC 2.597899 -4.473168 1.326016 -5 0 -5 \nC -1.326016 -5 -2.597899 -4.473168 -3.535534 -3.535534 \nC -4.473168 -2.597899 -5 -1.326016 -5 0 \nC -5 1.326016 -4.473168 2.597899 -3.535534 3.535534 \nC -2.597899 4.473168 -1.326016 5 0 5 \nz\n\" style=\"stroke: #4590ba; stroke-width: 3\"/>\n     </defs>\n     <g>\n      <use xlink:href=\"#mef1b00b46a\" x=\"375.077645\" y=\"164.855286\" style=\"fill: #56b4e9; stroke: #4590ba; stroke-width: 3\"/>\n     </g>\n    </g>\n    <g id=\"text_5\">\n     <!--  hello -->\n     <g style=\"fill: #404040\" transform=\"translate(393.077645 168.355286)scale(0.1 -0.1)\">\n      <use xlink:href=\"#DejaVuSansMono-20\"/>\n      <use xlink:href=\"#DejaVuSansMono-68\" x=\"60.205078\"/>\n      <use xlink:href=\"#DejaVuSansMono-65\" x=\"120.410156\"/>\n      <use xlink:href=\"#DejaVuSansMono-6c\" x=\"180.615234\"/>\n      <use xlink:href=\"#DejaVuSansMono-6c\" x=\"240.820312\"/>\n      <use xlink:href=\"#DejaVuSansMono-6f\" x=\"301.025391\"/>\n     </g>\n    </g>\n   </g>\n  </g>\n </g>\n <defs>\n  <clipPath id=\"p4f93a8ac5f\">\n   <rect x=\"7.2\" y=\"7.2\" width=\"348.877645\" height=\"316.738697\"/>\n  </clipPath>\n </defs>\n</svg>\n",
      "text/plain": [
       "<Figure size 600x600 with 1 Axes>"
      ]
     },
     "metadata": {},
     "output_type": "display_data"
    }
   ],
   "source": [
    "T.draw(color='hello')"
   ]
  },
  {
   "cell_type": "markdown",
   "metadata": {
    "raw_mimetype": "text/restructuredtext"
   },
   "source": [
    "Just on their own (i.e. not within a tensor network) just the labelled dimension\n",
    "aspect of tensors is already very convenient.\n",
    "Here's {meth}`~quimb.tensor.tensor_core.Tensor.fuse`,\n",
    "for example, which would usually require some non-trivial combination of axis finding,\n",
    "permuting, reshaping etc:"
   ]
  },
  {
   "cell_type": "code",
   "execution_count": 7,
   "metadata": {},
   "outputs": [
    {
     "data": {
      "text/plain": [
       "Tensor(shape=(15, 4), inds=('ac', 'b'), tags=oset(['hello', 'world']))"
      ]
     },
     "execution_count": 7,
     "metadata": {},
     "output_type": "execute_result"
    }
   ],
   "source": [
    "T1 = T.fuse({'ac': ('a', 'c')})\n",
    "T1"
   ]
  },
  {
   "cell_type": "markdown",
   "metadata": {
    "raw_mimetype": "text/restructuredtext"
   },
   "source": [
    "More importantly, the indices of a tensor also exactly define the subscripts\n",
    "as would appear in a\n",
    "[implicit Einstein summation](https://en.wikipedia.org/wiki/Einstein_notation),\n",
    "such that if we create the following tensor:"
   ]
  },
  {
   "cell_type": "code",
   "execution_count": 8,
   "metadata": {},
   "outputs": [
    {
     "data": {
      "text/plain": [
       "Tensor(shape=(6, 15), inds=('d', 'ac'), tags=oset(['T2']))"
      ]
     },
     "execution_count": 8,
     "metadata": {},
     "output_type": "execute_result"
    }
   ],
   "source": [
    "T2 = qtn.Tensor(\n",
    "    # use whatever backend function T1's data is using\n",
    "    data=do('random.uniform', size=(6, 15), like=T1.data),\n",
    "    # 'd' is new, 'ac' is shared with T1\n",
    "    inds=['d', 'ac'],\n",
    "    tags=['T2'])\n",
    "T2"
   ]
  },
  {
   "cell_type": "markdown",
   "metadata": {
    "raw_mimetype": "text/restructuredtext"
   },
   "source": [
    "The fact that both tensors have a `'ac'` index means that when combined\n",
    "the two corresponding dimensions are either implicitly or explicitly summed\n",
    "over (contracted) like so:\n",
    "\n",
    "```{math}\n",
    "T_{3}[b, d] = \\sum_{ac} T_1[ac, b] T_2[d, ac]\n",
    "```"
   ]
  },
  {
   "cell_type": "code",
   "execution_count": 9,
   "metadata": {},
   "outputs": [
    {
     "data": {
      "image/svg+xml": "<?xml version=\"1.0\" encoding=\"utf-8\" standalone=\"no\"?>\n<!DOCTYPE svg PUBLIC \"-//W3C//DTD SVG 1.1//EN\"\n  \"http://www.w3.org/Graphics/SVG/1.1/DTD/svg11.dtd\">\n<svg xmlns:xlink=\"http://www.w3.org/1999/xlink\" width=\"440.39952pt\" height=\"93.348215pt\" viewBox=\"0 0 440.39952 93.348215\" xmlns=\"http://www.w3.org/2000/svg\" version=\"1.1\">\n <metadata>\n  <rdf:RDF xmlns:dc=\"http://purl.org/dc/elements/1.1/\" xmlns:cc=\"http://creativecommons.org/ns#\" xmlns:rdf=\"http://www.w3.org/1999/02/22-rdf-syntax-ns#\">\n   <cc:Work>\n    <dc:type rdf:resource=\"http://purl.org/dc/dcmitype/StillImage\"/>\n    <dc:date>2022-12-05T17:06:50.289855</dc:date>\n    <dc:format>image/svg+xml</dc:format>\n    <dc:creator>\n     <cc:Agent>\n      <dc:title>Matplotlib v3.5.3, https://matplotlib.org/</dc:title>\n     </cc:Agent>\n    </dc:creator>\n   </cc:Work>\n  </rdf:RDF>\n </metadata>\n <defs>\n  <style type=\"text/css\">*{stroke-linejoin: round; stroke-linecap: butt}</style>\n </defs>\n <g id=\"figure_1\">\n  <g id=\"patch_1\">\n   <path d=\"M 0 93.348215 \nL 440.39952 93.348215 \nL 440.39952 0 \nL 0 0 \nL 0 93.348215 \nz\n\" style=\"fill: none; opacity: 0\"/>\n  </g>\n  <g id=\"axes_1\">\n   <g id=\"LineCollection_1\">\n    <path d=\"M 241.905446 46.566093 \nL 139.286262 46.782432 \n\" clip-path=\"url(#p07175f4c4a)\" style=\"fill: none; stroke: #737880; stroke-opacity: 0.5; stroke-width: 3.906891\"/>\n    <path d=\"M 241.905446 46.566093 \nL 334.968684 46.369899 \n\" clip-path=\"url(#p07175f4c4a)\" style=\"fill: none; stroke: #737880; stroke-opacity: 0.5; stroke-width: 2\"/>\n    <path d=\"M 139.286262 46.782432 \nL 46.369899 46.978316 \n\" clip-path=\"url(#p07175f4c4a)\" style=\"fill: none; stroke: #737880; stroke-opacity: 0.5; stroke-width: 2.584963\"/>\n   </g>\n   <g id=\"PathCollection_1\">\n    <path d=\"M 241.905446 58.971456 \nC 245.195387 58.971456 248.351023 57.664349 250.677362 55.338009 \nC 253.003702 53.01167 254.310809 49.856033 254.310809 46.566093 \nC 254.310809 43.276152 253.003702 40.120515 250.677362 37.794176 \nC 248.351023 35.467836 245.195387 34.160729 241.905446 34.160729 \nC 238.615505 34.160729 235.459868 35.467836 233.133529 37.794176 \nC 230.807189 40.120515 229.500082 43.276152 229.500082 46.566093 \nC 229.500082 49.856033 230.807189 53.01167 233.133529 55.338009 \nC 235.459868 57.664349 238.615505 58.971456 241.905446 58.971456 \nz\n\" clip-path=\"url(#p07175f4c4a)\" style=\"fill: #56b4e9; stroke: #4590ba; stroke-width: 3\"/>\n    <path d=\"M 139.286262 59.187796 \nC 142.576203 59.187796 145.731839 57.880688 148.058179 55.554349 \nC 150.384518 53.228009 151.691626 50.072373 151.691626 46.782432 \nC 151.691626 43.492491 150.384518 40.336854 148.058179 38.010515 \nC 145.731839 35.684175 142.576203 34.377068 139.286262 34.377068 \nC 135.996321 34.377068 132.840684 35.684175 130.514345 38.010515 \nC 128.188005 40.336854 126.880898 43.492491 126.880898 46.782432 \nC 126.880898 50.072373 128.188005 53.228009 130.514345 55.554349 \nC 132.840684 57.880688 135.996321 59.187796 139.286262 59.187796 \nz\n\" clip-path=\"url(#p07175f4c4a)\" style=\"fill: #e69f00; stroke: #b87f00; stroke-width: 3\"/>\n   </g>\n   <g id=\"PathCollection_2\">\n    <path d=\"M 334.968684 46.369899 \nC 334.968684 46.369899 334.968684 46.369899 334.968684 46.369899 \nC 334.968684 46.369899 334.968684 46.369899 334.968684 46.369899 \nC 334.968684 46.369899 334.968684 46.369899 334.968684 46.369899 \nC 334.968684 46.369899 334.968684 46.369899 334.968684 46.369899 \nC 334.968684 46.369899 334.968684 46.369899 334.968684 46.369899 \nC 334.968684 46.369899 334.968684 46.369899 334.968684 46.369899 \nC 334.968684 46.369899 334.968684 46.369899 334.968684 46.369899 \nC 334.968684 46.369899 334.968684 46.369899 334.968684 46.369899 \nz\n\" clip-path=\"url(#p07175f4c4a)\" style=\"fill: #ffffff\"/>\n    <path d=\"M 46.369899 46.978316 \nC 46.369899 46.978316 46.369899 46.978316 46.369899 46.978316 \nC 46.369899 46.978316 46.369899 46.978316 46.369899 46.978316 \nC 46.369899 46.978316 46.369899 46.978316 46.369899 46.978316 \nC 46.369899 46.978316 46.369899 46.978316 46.369899 46.978316 \nC 46.369899 46.978316 46.369899 46.978316 46.369899 46.978316 \nC 46.369899 46.978316 46.369899 46.978316 46.369899 46.978316 \nC 46.369899 46.978316 46.369899 46.978316 46.369899 46.978316 \nC 46.369899 46.978316 46.369899 46.978316 46.369899 46.978316 \nz\n\" clip-path=\"url(#p07175f4c4a)\" style=\"fill: #ffffff\"/>\n   </g>\n   <g id=\"text_1\">\n    <g clip-path=\"url(#p07175f4c4a)\">\n     <!-- hello, world, T1 -->\n     <g style=\"fill: #404040\" transform=\"translate(193.742946 49.35203)scale(0.1 -0.1)\">\n      <defs>\n       <path id=\"DejaVuSansMono-68\" d=\"M 3284 2169 \nL 3284 0 \nL 2706 0 \nL 2706 2169 \nQ 2706 2641 2540 2862 \nQ 2375 3084 2022 3084 \nQ 1619 3084 1401 2798 \nQ 1184 2513 1184 1978 \nL 1184 0 \nL 609 0 \nL 609 4863 \nL 1184 4863 \nL 1184 2975 \nQ 1338 3275 1600 3429 \nQ 1863 3584 2222 3584 \nQ 2756 3584 3020 3232 \nQ 3284 2881 3284 2169 \nz\n\" transform=\"scale(0.015625)\"/>\n       <path id=\"DejaVuSansMono-65\" d=\"M 3475 1894 \nL 3475 1613 \nL 984 1613 \nL 984 1594 \nQ 984 1022 1282 709 \nQ 1581 397 2125 397 \nQ 2400 397 2700 484 \nQ 3000 572 3341 750 \nL 3341 178 \nQ 3013 44 2708 -23 \nQ 2403 -91 2119 -91 \nQ 1303 -91 843 398 \nQ 384 888 384 1747 \nQ 384 2584 834 3084 \nQ 1284 3584 2034 3584 \nQ 2703 3584 3089 3131 \nQ 3475 2678 3475 1894 \nz\nM 2900 2063 \nQ 2888 2569 2661 2833 \nQ 2434 3097 2009 3097 \nQ 1594 3097 1325 2822 \nQ 1056 2547 1006 2059 \nL 2900 2063 \nz\n\" transform=\"scale(0.015625)\"/>\n       <path id=\"DejaVuSansMono-6c\" d=\"M 1997 1269 \nQ 1997 881 2139 684 \nQ 2281 488 2559 488 \nL 3231 488 \nL 3231 0 \nL 2503 0 \nQ 1988 0 1705 331 \nQ 1422 663 1422 1269 \nL 1422 4447 \nL 500 4447 \nL 500 4897 \nL 1997 4897 \nL 1997 1269 \nz\n\" transform=\"scale(0.015625)\"/>\n       <path id=\"DejaVuSansMono-6f\" d=\"M 1925 3097 \nQ 1488 3097 1263 2756 \nQ 1038 2416 1038 1747 \nQ 1038 1081 1263 739 \nQ 1488 397 1925 397 \nQ 2366 397 2591 739 \nQ 2816 1081 2816 1747 \nQ 2816 2416 2591 2756 \nQ 2366 3097 1925 3097 \nz\nM 1925 3584 \nQ 2653 3584 3039 3112 \nQ 3425 2641 3425 1747 \nQ 3425 850 3040 379 \nQ 2656 -91 1925 -91 \nQ 1197 -91 812 379 \nQ 428 850 428 1747 \nQ 428 2641 812 3112 \nQ 1197 3584 1925 3584 \nz\n\" transform=\"scale(0.015625)\"/>\n       <path id=\"DejaVuSansMono-2c\" d=\"M 1569 947 \nL 2356 947 \nL 2356 300 \nL 1741 -897 \nL 1259 -897 \nL 1569 300 \nL 1569 947 \nz\n\" transform=\"scale(0.015625)\"/>\n       <path id=\"DejaVuSansMono-20\" transform=\"scale(0.015625)\"/>\n       <path id=\"DejaVuSansMono-77\" d=\"M 0 3500 \nL 569 3500 \nL 1178 672 \nL 1678 2478 \nL 2169 2478 \nL 2675 672 \nL 3284 3500 \nL 3853 3500 \nL 3034 0 \nL 2484 0 \nL 1925 1919 \nL 1369 0 \nL 819 0 \nL 0 3500 \nz\n\" transform=\"scale(0.015625)\"/>\n       <path id=\"DejaVuSansMono-72\" d=\"M 3609 2778 \nQ 3425 2922 3234 2987 \nQ 3044 3053 2816 3053 \nQ 2278 3053 1993 2715 \nQ 1709 2378 1709 1741 \nL 1709 0 \nL 1131 0 \nL 1131 3500 \nL 1709 3500 \nL 1709 2816 \nQ 1853 3188 2151 3386 \nQ 2450 3584 2859 3584 \nQ 3072 3584 3256 3531 \nQ 3441 3478 3609 3366 \nL 3609 2778 \nz\n\" transform=\"scale(0.015625)\"/>\n       <path id=\"DejaVuSansMono-64\" d=\"M 2681 3053 \nL 2681 4863 \nL 3256 4863 \nL 3256 0 \nL 2681 0 \nL 2681 441 \nQ 2538 181 2298 45 \nQ 2059 -91 1747 -91 \nQ 1113 -91 748 401 \nQ 384 894 384 1759 \nQ 384 2613 750 3098 \nQ 1116 3584 1747 3584 \nQ 2063 3584 2303 3448 \nQ 2544 3313 2681 3053 \nz\nM 991 1747 \nQ 991 1078 1203 737 \nQ 1416 397 1831 397 \nQ 2247 397 2464 740 \nQ 2681 1084 2681 1747 \nQ 2681 2413 2464 2755 \nQ 2247 3097 1831 3097 \nQ 1416 3097 1203 2756 \nQ 991 2416 991 1747 \nz\n\" transform=\"scale(0.015625)\"/>\n       <path id=\"DejaVuSansMono-54\" d=\"M 147 4666 \nL 3706 4666 \nL 3706 4134 \nL 2247 4134 \nL 2247 0 \nL 1613 0 \nL 1613 4134 \nL 147 4134 \nL 147 4666 \nz\n\" transform=\"scale(0.015625)\"/>\n       <path id=\"DejaVuSansMono-31\" d=\"M 844 531 \nL 1825 531 \nL 1825 4097 \nL 769 3859 \nL 769 4434 \nL 1819 4666 \nL 2450 4666 \nL 2450 531 \nL 3419 531 \nL 3419 0 \nL 844 0 \nL 844 531 \nz\n\" transform=\"scale(0.015625)\"/>\n      </defs>\n      <use xlink:href=\"#DejaVuSansMono-68\"/>\n      <use xlink:href=\"#DejaVuSansMono-65\" x=\"60.205078\"/>\n      <use xlink:href=\"#DejaVuSansMono-6c\" x=\"120.410156\"/>\n      <use xlink:href=\"#DejaVuSansMono-6c\" x=\"180.615234\"/>\n      <use xlink:href=\"#DejaVuSansMono-6f\" x=\"240.820312\"/>\n      <use xlink:href=\"#DejaVuSansMono-2c\" x=\"301.025391\"/>\n      <use xlink:href=\"#DejaVuSansMono-20\" x=\"361.230469\"/>\n      <use xlink:href=\"#DejaVuSansMono-77\" x=\"421.435547\"/>\n      <use xlink:href=\"#DejaVuSansMono-6f\" x=\"481.640625\"/>\n      <use xlink:href=\"#DejaVuSansMono-72\" x=\"541.845703\"/>\n      <use xlink:href=\"#DejaVuSansMono-6c\" x=\"602.050781\"/>\n      <use xlink:href=\"#DejaVuSansMono-64\" x=\"662.255859\"/>\n      <use xlink:href=\"#DejaVuSansMono-2c\" x=\"722.460938\"/>\n      <use xlink:href=\"#DejaVuSansMono-20\" x=\"782.666016\"/>\n      <use xlink:href=\"#DejaVuSansMono-54\" x=\"842.871094\"/>\n      <use xlink:href=\"#DejaVuSansMono-31\" x=\"903.076172\"/>\n     </g>\n    </g>\n   </g>\n   <g id=\"text_2\">\n    <g clip-path=\"url(#p07175f4c4a)\">\n     <!-- T2 -->\n     <g style=\"fill: #404040\" transform=\"translate(133.265949 49.568369)scale(0.1 -0.1)\">\n      <defs>\n       <path id=\"DejaVuSansMono-32\" d=\"M 1166 531 \nL 3309 531 \nL 3309 0 \nL 475 0 \nL 475 531 \nQ 1059 1147 1496 1619 \nQ 1934 2091 2100 2284 \nQ 2413 2666 2522 2902 \nQ 2631 3138 2631 3384 \nQ 2631 3775 2401 3997 \nQ 2172 4219 1772 4219 \nQ 1488 4219 1175 4116 \nQ 863 4013 513 3803 \nL 513 4441 \nQ 834 4594 1145 4672 \nQ 1456 4750 1759 4750 \nQ 2444 4750 2861 4386 \nQ 3278 4022 3278 3431 \nQ 3278 3131 3139 2831 \nQ 3000 2531 2688 2169 \nQ 2513 1966 2180 1606 \nQ 1847 1247 1166 531 \nz\n\" transform=\"scale(0.015625)\"/>\n      </defs>\n      <use xlink:href=\"#DejaVuSansMono-54\"/>\n      <use xlink:href=\"#DejaVuSansMono-32\" x=\"60.205078\"/>\n     </g>\n    </g>\n   </g>\n   <g id=\"text_3\">\n    <g clip-path=\"url(#p07175f4c4a)\">\n     <!-- d -->\n     <g style=\"fill: #404040\" transform=\"translate(43.359743 49.764253)scale(0.1 -0.1)\">\n      <use xlink:href=\"#DejaVuSansMono-64\"/>\n     </g>\n    </g>\n   </g>\n   <g id=\"text_4\">\n    <g clip-path=\"url(#p07175f4c4a)\">\n     <!-- b -->\n     <g style=\"fill: #404040\" transform=\"translate(331.958527 49.155836)scale(0.1 -0.1)\">\n      <defs>\n       <path id=\"DejaVuSansMono-62\" d=\"M 2869 1747 \nQ 2869 2416 2656 2756 \nQ 2444 3097 2028 3097 \nQ 1609 3097 1393 2755 \nQ 1178 2413 1178 1747 \nQ 1178 1084 1393 740 \nQ 1609 397 2028 397 \nQ 2444 397 2656 737 \nQ 2869 1078 2869 1747 \nz\nM 1178 3053 \nQ 1316 3309 1558 3446 \nQ 1800 3584 2119 3584 \nQ 2750 3584 3112 3098 \nQ 3475 2613 3475 1759 \nQ 3475 894 3111 401 \nQ 2747 -91 2113 -91 \nQ 1800 -91 1561 45 \nQ 1322 181 1178 441 \nL 1178 0 \nL 603 0 \nL 603 4863 \nL 1178 4863 \nL 1178 3053 \nz\n\" transform=\"scale(0.015625)\"/>\n      </defs>\n      <use xlink:href=\"#DejaVuSansMono-62\"/>\n     </g>\n    </g>\n   </g>\n   <g id=\"legend_1\">\n    <g id=\"patch_2\">\n     <path d=\"M 381.138583 62.905357 \nL 431.19952 62.905357 \nQ 433.19952 62.905357 433.19952 60.905357 \nL 433.19952 32.442857 \nQ 433.19952 30.442857 431.19952 30.442857 \nL 381.138583 30.442857 \nQ 379.138583 30.442857 379.138583 32.442857 \nL 379.138583 60.905357 \nQ 379.138583 62.905357 381.138583 62.905357 \nL 381.138583 62.905357 \nz\n\" style=\"fill: none; stroke: #999999; stroke-opacity: 0.2; stroke-linejoin: miter\"/>\n    </g>\n    <g id=\"line2d_1\">\n     <defs>\n      <path id=\"m835e0fcc31\" d=\"M 0 5 \nC 1.326016 5 2.597899 4.473168 3.535534 3.535534 \nC 4.473168 2.597899 5 1.326016 5 0 \nC 5 -1.326016 4.473168 -2.597899 3.535534 -3.535534 \nC 2.597899 -4.473168 1.326016 -5 0 -5 \nC -1.326016 -5 -2.597899 -4.473168 -3.535534 -3.535534 \nC -4.473168 -2.597899 -5 -1.326016 -5 0 \nC -5 1.326016 -4.473168 2.597899 -3.535534 3.535534 \nC -2.597899 4.473168 -1.326016 5 0 5 \nz\n\" style=\"stroke: #4590ba; stroke-width: 3\"/>\n     </defs>\n     <g>\n      <use xlink:href=\"#m835e0fcc31\" x=\"393.138583\" y=\"38.59442\" style=\"fill: #56b4e9; stroke: #4590ba; stroke-width: 3\"/>\n     </g>\n    </g>\n    <g id=\"text_5\">\n     <!--  T1 -->\n     <g style=\"fill: #404040\" transform=\"translate(411.138583 42.09442)scale(0.1 -0.1)\">\n      <use xlink:href=\"#DejaVuSansMono-20\"/>\n      <use xlink:href=\"#DejaVuSansMono-54\" x=\"60.205078\"/>\n      <use xlink:href=\"#DejaVuSansMono-31\" x=\"120.410156\"/>\n     </g>\n    </g>\n    <g id=\"line2d_2\">\n     <defs>\n      <path id=\"m8eca31b252\" d=\"M 0 5 \nC 1.326016 5 2.597899 4.473168 3.535534 3.535534 \nC 4.473168 2.597899 5 1.326016 5 0 \nC 5 -1.326016 4.473168 -2.597899 3.535534 -3.535534 \nC 2.597899 -4.473168 1.326016 -5 0 -5 \nC -1.326016 -5 -2.597899 -4.473168 -3.535534 -3.535534 \nC -4.473168 -2.597899 -5 -1.326016 -5 0 \nC -5 1.326016 -4.473168 2.597899 -3.535534 3.535534 \nC -2.597899 4.473168 -1.326016 5 0 5 \nz\n\" style=\"stroke: #b87f00; stroke-width: 3\"/>\n     </defs>\n     <g>\n      <use xlink:href=\"#m8eca31b252\" x=\"393.138583\" y=\"53.32567\" style=\"fill: #e69f00; stroke: #b87f00; stroke-width: 3\"/>\n     </g>\n    </g>\n    <g id=\"text_6\">\n     <!--  T2 -->\n     <g style=\"fill: #404040\" transform=\"translate(411.138583 56.82567)scale(0.1 -0.1)\">\n      <use xlink:href=\"#DejaVuSansMono-20\"/>\n      <use xlink:href=\"#DejaVuSansMono-54\" x=\"60.205078\"/>\n      <use xlink:href=\"#DejaVuSansMono-32\" x=\"120.410156\"/>\n     </g>\n    </g>\n   </g>\n  </g>\n </g>\n <defs>\n  <clipPath id=\"p07175f4c4a\">\n   <rect x=\"7.2\" y=\"7.2\" width=\"366.938583\" height=\"78.948215\"/>\n  </clipPath>\n </defs>\n</svg>\n",
      "text/plain": [
       "<Figure size 600x600 with 1 Axes>"
      ]
     },
     "metadata": {},
     "output_type": "display_data"
    }
   ],
   "source": [
    "T1.add_tag('T1')\n",
    "(T1 | T2).draw(color=['T1', 'T2'])"
   ]
  },
  {
   "cell_type": "code",
   "execution_count": 10,
   "metadata": {},
   "outputs": [
    {
     "data": {
      "text/plain": [
       "Tensor(shape=(4, 6), inds=('b', 'd'), tags=oset(['hello', 'world', 'T1', 'T2']))"
      ]
     },
     "execution_count": 10,
     "metadata": {},
     "output_type": "execute_result"
    }
   ],
   "source": [
    "T3 = T1 @ T2  \n",
    "# == qtn.tensor_contract(T1, T2)\n",
    "# == T1.contract(T2)\n",
    "T3"
   ]
  },
  {
   "cell_type": "code",
   "execution_count": 11,
   "metadata": {},
   "outputs": [
    {
     "data": {
      "image/svg+xml": "<?xml version=\"1.0\" encoding=\"utf-8\" standalone=\"no\"?>\n<!DOCTYPE svg PUBLIC \"-//W3C//DTD SVG 1.1//EN\"\n  \"http://www.w3.org/Graphics/SVG/1.1/DTD/svg11.dtd\">\n<svg xmlns:xlink=\"http://www.w3.org/1999/xlink\" width=\"440.39952pt\" height=\"113.428155pt\" viewBox=\"0 0 440.39952 113.428155\" xmlns=\"http://www.w3.org/2000/svg\" version=\"1.1\">\n <metadata>\n  <rdf:RDF xmlns:dc=\"http://purl.org/dc/elements/1.1/\" xmlns:cc=\"http://creativecommons.org/ns#\" xmlns:rdf=\"http://www.w3.org/1999/02/22-rdf-syntax-ns#\">\n   <cc:Work>\n    <dc:type rdf:resource=\"http://purl.org/dc/dcmitype/StillImage\"/>\n    <dc:date>2022-12-05T17:06:54.263324</dc:date>\n    <dc:format>image/svg+xml</dc:format>\n    <dc:creator>\n     <cc:Agent>\n      <dc:title>Matplotlib v3.5.3, https://matplotlib.org/</dc:title>\n     </cc:Agent>\n    </dc:creator>\n   </cc:Work>\n  </rdf:RDF>\n </metadata>\n <defs>\n  <style type=\"text/css\">*{stroke-linejoin: round; stroke-linecap: butt}</style>\n </defs>\n <g id=\"figure_1\">\n  <g id=\"patch_1\">\n   <path d=\"M 0 113.428155 \nL 440.39952 113.428155 \nL 440.39952 0 \nL 0 0 \nL 0 113.428155 \nz\n\" style=\"fill: none; opacity: 0\"/>\n  </g>\n  <g id=\"axes_1\">\n   <g id=\"LineCollection_1\">\n    <path d=\"M 190.830881 56.713816 \nL 324.841308 56.497274 \n\" clip-path=\"url(#p0c6b9332db)\" style=\"fill: none; stroke: #737880; stroke-opacity: 0.5; stroke-width: 2\"/>\n    <path d=\"M 190.830881 56.713816 \nL 56.497274 56.93088 \n\" clip-path=\"url(#p0c6b9332db)\" style=\"fill: none; stroke: #737880; stroke-opacity: 0.5; stroke-width: 2.584963\"/>\n   </g>\n   <g id=\"PathCollection_1\">\n    <path d=\"M 190.830881 72.525204 \nC 195.02411 72.525204 199.04616 70.859217 202.011221 67.894156 \nC 204.976281 64.929095 206.642269 60.907045 206.642269 56.713816 \nC 206.642269 52.520587 204.976281 48.498537 202.011221 45.533476 \nC 199.04616 42.568415 195.02411 40.902428 190.830881 40.902428 \nC 186.637651 40.902428 182.615602 42.568415 179.650541 45.533476 \nC 176.68548 48.498537 175.019492 52.520587 175.019492 56.713816 \nC 175.019492 60.907045 176.68548 64.929095 179.650541 67.894156 \nC 182.615602 70.859217 186.637651 72.525204 190.830881 72.525204 \nz\n\" clip-path=\"url(#p0c6b9332db)\" style=\"fill: #56b4e9; stroke: #4590ba; stroke-width: 3\"/>\n   </g>\n   <g id=\"PathCollection_2\">\n    <path d=\"M 324.841308 56.497274 \nC 324.841308 56.497274 324.841308 56.497274 324.841308 56.497274 \nC 324.841308 56.497274 324.841308 56.497274 324.841308 56.497274 \nC 324.841308 56.497274 324.841308 56.497274 324.841308 56.497274 \nC 324.841308 56.497274 324.841308 56.497274 324.841308 56.497274 \nC 324.841308 56.497274 324.841308 56.497274 324.841308 56.497274 \nC 324.841308 56.497274 324.841308 56.497274 324.841308 56.497274 \nC 324.841308 56.497274 324.841308 56.497274 324.841308 56.497274 \nC 324.841308 56.497274 324.841308 56.497274 324.841308 56.497274 \nz\n\" clip-path=\"url(#p0c6b9332db)\" style=\"fill: #ffffff\"/>\n    <path d=\"M 56.497274 56.93088 \nC 56.497274 56.93088 56.497274 56.93088 56.497274 56.93088 \nC 56.497274 56.93088 56.497274 56.93088 56.497274 56.93088 \nC 56.497274 56.93088 56.497274 56.93088 56.497274 56.93088 \nC 56.497274 56.93088 56.497274 56.93088 56.497274 56.93088 \nC 56.497274 56.93088 56.497274 56.93088 56.497274 56.93088 \nC 56.497274 56.93088 56.497274 56.93088 56.497274 56.93088 \nC 56.497274 56.93088 56.497274 56.93088 56.497274 56.93088 \nC 56.497274 56.93088 56.497274 56.93088 56.497274 56.93088 \nz\n\" clip-path=\"url(#p0c6b9332db)\" style=\"fill: #ffffff\"/>\n   </g>\n   <g id=\"text_1\">\n    <g clip-path=\"url(#p0c6b9332db)\">\n     <!-- hello, world, -->\n     <g style=\"fill: #404040\" transform=\"translate(151.698849 53.868972)scale(0.1 -0.1)\">\n      <defs>\n       <path id=\"DejaVuSansMono-68\" d=\"M 3284 2169 \nL 3284 0 \nL 2706 0 \nL 2706 2169 \nQ 2706 2641 2540 2862 \nQ 2375 3084 2022 3084 \nQ 1619 3084 1401 2798 \nQ 1184 2513 1184 1978 \nL 1184 0 \nL 609 0 \nL 609 4863 \nL 1184 4863 \nL 1184 2975 \nQ 1338 3275 1600 3429 \nQ 1863 3584 2222 3584 \nQ 2756 3584 3020 3232 \nQ 3284 2881 3284 2169 \nz\n\" transform=\"scale(0.015625)\"/>\n       <path id=\"DejaVuSansMono-65\" d=\"M 3475 1894 \nL 3475 1613 \nL 984 1613 \nL 984 1594 \nQ 984 1022 1282 709 \nQ 1581 397 2125 397 \nQ 2400 397 2700 484 \nQ 3000 572 3341 750 \nL 3341 178 \nQ 3013 44 2708 -23 \nQ 2403 -91 2119 -91 \nQ 1303 -91 843 398 \nQ 384 888 384 1747 \nQ 384 2584 834 3084 \nQ 1284 3584 2034 3584 \nQ 2703 3584 3089 3131 \nQ 3475 2678 3475 1894 \nz\nM 2900 2063 \nQ 2888 2569 2661 2833 \nQ 2434 3097 2009 3097 \nQ 1594 3097 1325 2822 \nQ 1056 2547 1006 2059 \nL 2900 2063 \nz\n\" transform=\"scale(0.015625)\"/>\n       <path id=\"DejaVuSansMono-6c\" d=\"M 1997 1269 \nQ 1997 881 2139 684 \nQ 2281 488 2559 488 \nL 3231 488 \nL 3231 0 \nL 2503 0 \nQ 1988 0 1705 331 \nQ 1422 663 1422 1269 \nL 1422 4447 \nL 500 4447 \nL 500 4897 \nL 1997 4897 \nL 1997 1269 \nz\n\" transform=\"scale(0.015625)\"/>\n       <path id=\"DejaVuSansMono-6f\" d=\"M 1925 3097 \nQ 1488 3097 1263 2756 \nQ 1038 2416 1038 1747 \nQ 1038 1081 1263 739 \nQ 1488 397 1925 397 \nQ 2366 397 2591 739 \nQ 2816 1081 2816 1747 \nQ 2816 2416 2591 2756 \nQ 2366 3097 1925 3097 \nz\nM 1925 3584 \nQ 2653 3584 3039 3112 \nQ 3425 2641 3425 1747 \nQ 3425 850 3040 379 \nQ 2656 -91 1925 -91 \nQ 1197 -91 812 379 \nQ 428 850 428 1747 \nQ 428 2641 812 3112 \nQ 1197 3584 1925 3584 \nz\n\" transform=\"scale(0.015625)\"/>\n       <path id=\"DejaVuSansMono-2c\" d=\"M 1569 947 \nL 2356 947 \nL 2356 300 \nL 1741 -897 \nL 1259 -897 \nL 1569 300 \nL 1569 947 \nz\n\" transform=\"scale(0.015625)\"/>\n       <path id=\"DejaVuSansMono-20\" transform=\"scale(0.015625)\"/>\n       <path id=\"DejaVuSansMono-77\" d=\"M 0 3500 \nL 569 3500 \nL 1178 672 \nL 1678 2478 \nL 2169 2478 \nL 2675 672 \nL 3284 3500 \nL 3853 3500 \nL 3034 0 \nL 2484 0 \nL 1925 1919 \nL 1369 0 \nL 819 0 \nL 0 3500 \nz\n\" transform=\"scale(0.015625)\"/>\n       <path id=\"DejaVuSansMono-72\" d=\"M 3609 2778 \nQ 3425 2922 3234 2987 \nQ 3044 3053 2816 3053 \nQ 2278 3053 1993 2715 \nQ 1709 2378 1709 1741 \nL 1709 0 \nL 1131 0 \nL 1131 3500 \nL 1709 3500 \nL 1709 2816 \nQ 1853 3188 2151 3386 \nQ 2450 3584 2859 3584 \nQ 3072 3584 3256 3531 \nQ 3441 3478 3609 3366 \nL 3609 2778 \nz\n\" transform=\"scale(0.015625)\"/>\n       <path id=\"DejaVuSansMono-64\" d=\"M 2681 3053 \nL 2681 4863 \nL 3256 4863 \nL 3256 0 \nL 2681 0 \nL 2681 441 \nQ 2538 181 2298 45 \nQ 2059 -91 1747 -91 \nQ 1113 -91 748 401 \nQ 384 894 384 1759 \nQ 384 2613 750 3098 \nQ 1116 3584 1747 3584 \nQ 2063 3584 2303 3448 \nQ 2544 3313 2681 3053 \nz\nM 991 1747 \nQ 991 1078 1203 737 \nQ 1416 397 1831 397 \nQ 2247 397 2464 740 \nQ 2681 1084 2681 1747 \nQ 2681 2413 2464 2755 \nQ 2247 3097 1831 3097 \nQ 1416 3097 1203 2756 \nQ 991 2416 991 1747 \nz\n\" transform=\"scale(0.015625)\"/>\n      </defs>\n      <use xlink:href=\"#DejaVuSansMono-68\"/>\n      <use xlink:href=\"#DejaVuSansMono-65\" x=\"60.205078\"/>\n      <use xlink:href=\"#DejaVuSansMono-6c\" x=\"120.410156\"/>\n      <use xlink:href=\"#DejaVuSansMono-6c\" x=\"180.615234\"/>\n      <use xlink:href=\"#DejaVuSansMono-6f\" x=\"240.820312\"/>\n      <use xlink:href=\"#DejaVuSansMono-2c\" x=\"301.025391\"/>\n      <use xlink:href=\"#DejaVuSansMono-20\" x=\"361.230469\"/>\n      <use xlink:href=\"#DejaVuSansMono-77\" x=\"421.435547\"/>\n      <use xlink:href=\"#DejaVuSansMono-6f\" x=\"481.640625\"/>\n      <use xlink:href=\"#DejaVuSansMono-72\" x=\"541.845703\"/>\n      <use xlink:href=\"#DejaVuSansMono-6c\" x=\"602.050781\"/>\n      <use xlink:href=\"#DejaVuSansMono-64\" x=\"662.255859\"/>\n      <use xlink:href=\"#DejaVuSansMono-2c\" x=\"722.460938\"/>\n     </g>\n    </g>\n    <g clip-path=\"url(#p0c6b9332db)\">\n     <!-- T1, T2 -->\n     <g style=\"fill: #404040\" transform=\"translate(172.769943 65.130535)scale(0.1 -0.1)\">\n      <defs>\n       <path id=\"DejaVuSansMono-54\" d=\"M 147 4666 \nL 3706 4666 \nL 3706 4134 \nL 2247 4134 \nL 2247 0 \nL 1613 0 \nL 1613 4134 \nL 147 4134 \nL 147 4666 \nz\n\" transform=\"scale(0.015625)\"/>\n       <path id=\"DejaVuSansMono-31\" d=\"M 844 531 \nL 1825 531 \nL 1825 4097 \nL 769 3859 \nL 769 4434 \nL 1819 4666 \nL 2450 4666 \nL 2450 531 \nL 3419 531 \nL 3419 0 \nL 844 0 \nL 844 531 \nz\n\" transform=\"scale(0.015625)\"/>\n       <path id=\"DejaVuSansMono-32\" d=\"M 1166 531 \nL 3309 531 \nL 3309 0 \nL 475 0 \nL 475 531 \nQ 1059 1147 1496 1619 \nQ 1934 2091 2100 2284 \nQ 2413 2666 2522 2902 \nQ 2631 3138 2631 3384 \nQ 2631 3775 2401 3997 \nQ 2172 4219 1772 4219 \nQ 1488 4219 1175 4116 \nQ 863 4013 513 3803 \nL 513 4441 \nQ 834 4594 1145 4672 \nQ 1456 4750 1759 4750 \nQ 2444 4750 2861 4386 \nQ 3278 4022 3278 3431 \nQ 3278 3131 3139 2831 \nQ 3000 2531 2688 2169 \nQ 2513 1966 2180 1606 \nQ 1847 1247 1166 531 \nz\n\" transform=\"scale(0.015625)\"/>\n      </defs>\n      <use xlink:href=\"#DejaVuSansMono-54\"/>\n      <use xlink:href=\"#DejaVuSansMono-31\" x=\"60.205078\"/>\n      <use xlink:href=\"#DejaVuSansMono-2c\" x=\"120.410156\"/>\n      <use xlink:href=\"#DejaVuSansMono-20\" x=\"180.615234\"/>\n      <use xlink:href=\"#DejaVuSansMono-54\" x=\"240.820312\"/>\n      <use xlink:href=\"#DejaVuSansMono-32\" x=\"301.025391\"/>\n     </g>\n    </g>\n   </g>\n   <g id=\"text_2\">\n    <g clip-path=\"url(#p0c6b9332db)\">\n     <!-- d -->\n     <g style=\"fill: #404040\" transform=\"translate(53.487118 59.716818)scale(0.1 -0.1)\">\n      <use xlink:href=\"#DejaVuSansMono-64\"/>\n     </g>\n    </g>\n   </g>\n   <g id=\"text_3\">\n    <g clip-path=\"url(#p0c6b9332db)\">\n     <!-- b -->\n     <g style=\"fill: #404040\" transform=\"translate(321.831152 59.283212)scale(0.1 -0.1)\">\n      <defs>\n       <path id=\"DejaVuSansMono-62\" d=\"M 2869 1747 \nQ 2869 2416 2656 2756 \nQ 2444 3097 2028 3097 \nQ 1609 3097 1393 2755 \nQ 1178 2413 1178 1747 \nQ 1178 1084 1393 740 \nQ 1609 397 2028 397 \nQ 2444 397 2656 737 \nQ 2869 1078 2869 1747 \nz\nM 1178 3053 \nQ 1316 3309 1558 3446 \nQ 1800 3584 2119 3584 \nQ 2750 3584 3112 3098 \nQ 3475 2613 3475 1759 \nQ 3475 894 3111 401 \nQ 2747 -91 2113 -91 \nQ 1800 -91 1561 45 \nQ 1322 181 1178 441 \nL 1178 0 \nL 603 0 \nL 603 4863 \nL 1178 4863 \nL 1178 3053 \nz\n\" transform=\"scale(0.015625)\"/>\n      </defs>\n      <use xlink:href=\"#DejaVuSansMono-62\"/>\n     </g>\n    </g>\n   </g>\n   <g id=\"legend_1\">\n    <g id=\"patch_2\">\n     <path d=\"M 381.138583 65.579702 \nL 431.19952 65.579702 \nQ 433.19952 65.579702 433.19952 63.579702 \nL 433.19952 49.848452 \nQ 433.19952 47.848452 431.19952 47.848452 \nL 381.138583 47.848452 \nQ 379.138583 47.848452 379.138583 49.848452 \nL 379.138583 63.579702 \nQ 379.138583 65.579702 381.138583 65.579702 \nL 381.138583 65.579702 \nz\n\" style=\"fill: none; stroke: #999999; stroke-opacity: 0.2; stroke-linejoin: miter\"/>\n    </g>\n    <g id=\"line2d_1\">\n     <defs>\n      <path id=\"m557127f8e5\" d=\"M 0 5 \nC 1.326016 5 2.597899 4.473168 3.535534 3.535534 \nC 4.473168 2.597899 5 1.326016 5 0 \nC 5 -1.326016 4.473168 -2.597899 3.535534 -3.535534 \nC 2.597899 -4.473168 1.326016 -5 0 -5 \nC -1.326016 -5 -2.597899 -4.473168 -3.535534 -3.535534 \nC -4.473168 -2.597899 -5 -1.326016 -5 0 \nC -5 1.326016 -4.473168 2.597899 -3.535534 3.535534 \nC -2.597899 4.473168 -1.326016 5 0 5 \nz\n\" style=\"stroke: #4590ba; stroke-width: 3\"/>\n     </defs>\n     <g>\n      <use xlink:href=\"#m557127f8e5\" x=\"393.138583\" y=\"56.000015\" style=\"fill: #56b4e9; stroke: #4590ba; stroke-width: 3\"/>\n     </g>\n    </g>\n    <g id=\"text_4\">\n     <!--  T1 -->\n     <g style=\"fill: #404040\" transform=\"translate(411.138583 59.500015)scale(0.1 -0.1)\">\n      <use xlink:href=\"#DejaVuSansMono-20\"/>\n      <use xlink:href=\"#DejaVuSansMono-54\" x=\"60.205078\"/>\n      <use xlink:href=\"#DejaVuSansMono-31\" x=\"120.410156\"/>\n     </g>\n    </g>\n   </g>\n  </g>\n </g>\n <defs>\n  <clipPath id=\"p0c6b9332db\">\n   <rect x=\"7.2\" y=\"7.2\" width=\"366.938583\" height=\"99.028155\"/>\n  </clipPath>\n </defs>\n</svg>\n",
      "text/plain": [
       "<Figure size 600x600 with 1 Axes>"
      ]
     },
     "metadata": {},
     "output_type": "display_data"
    }
   ],
   "source": [
    "T3.draw(color=['T1'])"
   ]
  },
  {
   "cell_type": "markdown",
   "metadata": {
    "raw_mimetype": "text/restructuredtext"
   },
   "source": [
    "The `@` operator eagerly contracts two tensors according to this\n",
    "summation (via [`qtn.tensor_contract`](quimb.tensor.tensor_core.tensor_contract)),\n",
    "thereby removing the `'ac'` index. As you can see, contracting\n",
    "two tensors also merges their tags.\n",
    "\n",
    ":::{hint}\n",
    "In `quimb`, **the names of the indices entirely define the geometry\n",
    "of the tensor network**. If you want two tensor dimensions to be contracted\n",
    "just name them the same thing. Alternatively use\n",
    "[`qtn.connect`](quimb.tensor.tensor_core.connect) to name them for you. The actual\n",
    "name is not so important, in as much as its unique and shared, you can\n",
    "generate new names automatically using\n",
    "[`qtn.rand_uuid`](quimb.tensor.tensor_core.rand_uuid).\n",
    "\n",
    "The fact that the specific name of internal indices has no effect on the\n",
    "overall oject represented is made use of by\n",
    "[`TensorNetwork`](quimb.tensor.tensor_core.TensorNetwork) -\n",
    "see - {ref}`indexmangling`.\n",
    ":::\n",
    "\n",
    "## Copying & Modifying Tensors\n",
    "\n",
    "You can copy a tensor with [`Tensor.copy`](quimb.tensor.tensor_core.Tensor.copy), (note\n",
    "by default this **doesn't** copy the `.data` - see below), and update it with\n",
    "[`Tensor.modify`](quimb.tensor.tensor_core.Tensor.modify). Routing all changes to tensors\n",
    "through [`Tensor.modify`](quimb.tensor.tensor_core.Tensor.modify) allows various checks, and\n",
    "for tensors to automatically inform any tensor networks they belong to, for example.\n",
    "\n",
    "An example of a typical tensor method that demonstrates the above is the following:\n"
   ]
  },
  {
   "cell_type": "code",
   "execution_count": 12,
   "metadata": {},
   "outputs": [
    {
     "data": {
      "text/plain": [
       "Tensor(shape=(15,), inds=('ac',), tags=oset(['hello', 'world', 'T1']))"
      ]
     },
     "execution_count": 12,
     "metadata": {},
     "output_type": "execute_result"
    }
   ],
   "source": [
    "def sum_reduce(self, ind, inplace=False):\n",
    "    \"\"\"Sum the array axis corresponding to ``ind``.\n",
    "    \"\"\"\n",
    "    # easily enables copy vs inplace version\n",
    "    t = self if inplace else self.copy()\n",
    "    \n",
    "    # get the axis `ind` corresponds to\n",
    "    axis = t.inds.index(ind)\n",
    "    \n",
    "    # use autoray.do to be backend agnostic\n",
    "    new_data = do('sum', t.data, axis=axis)\n",
    "    new_inds = t.inds[:axis] + t.inds[axis + 1:]\n",
    "    \n",
    "    # update tensor using modify\n",
    "    t.modify(data=new_data, inds=new_inds)\n",
    "    \n",
    "    # return `t` even if inplace to allow method chaining\n",
    "    return t\n",
    "\n",
    "sum_reduce(T1, 'b')"
   ]
  },
  {
   "cell_type": "markdown",
   "metadata": {
    "raw_mimetype": "text/restructuredtext"
   },
   "source": [
    "A convention that `quimb` adopts is for many common methods to have inplace\n",
    "versions specifically named with a trailing underscore, like:\n",
    "\n",
    "- [`Tensor.sum_reduce`](quimb.tensor.tensor_core.Tensor.sum_reduce)\n",
    "- [`Tensor.sum_reduce_`](quimb.tensor.tensor_core.Tensor.sum_reduce_)"
   ]
  },
  {
   "cell_type": "markdown",
   "metadata": {
    "raw_mimetype": "text/restructuredtext"
   },
   "source": [
    ":::{warning}\n",
    "All array functions in `quimb` as assumed to be **pure**, i.e. return\n",
    "a new array and not modify the original.\n",
    "This allows tensor copies by default *to not copy their* `.data`, which saves\n",
    "memory and is more efficient with backends that e.g. construct an explicit\n",
    "computational graph. You should only inplace modify the actual arrays if\n",
    "you know what you are doing, or after calling `.copy(deep=True)` first.\n",
    ":::"
   ]
  },
  {
   "cell_type": "markdown",
   "metadata": {
    "raw_mimetype": "text/restructuredtext"
   },
   "source": [
    "## `TensorNetwork`\n",
    "\n",
    "As described above, there is already an implicit tensor network\n",
    "geometry introduced by simply matching up tensor index names -\n",
    "and indeed you could just keep track of the tensors yourself.\n",
    "\n",
    "However, its generally useful to collect tensors into a\n",
    "{class}`~quimb.tensor.tensor_core.TensorNetwork` object,\n",
    "which enables $\\mathscr{O}(1)$ access to any tensors based on\n",
    "their `inds` or `tags`, as well as encapsulating all sorts of\n",
    "functionality the depends on the network relations of the tensors."
   ]
  },
  {
   "cell_type": "code",
   "execution_count": 13,
   "metadata": {},
   "outputs": [
    {
     "data": {
      "text/plain": [
       "<TensorNetwork(tensors=3, indices=6)>"
      ]
     },
     "execution_count": 13,
     "metadata": {},
     "output_type": "execute_result"
    }
   ],
   "source": [
    "ta = qtn.rand_tensor((2, 3, 3), ['a', 'x', 'y'], tags='A')\n",
    "tb = qtn.rand_tensor((2, 3, 3), ['b', 'y', 'z'], tags='B')\n",
    "tc = qtn.rand_tensor((2, 3, 3), ['c', 'z', 'x'], tags='C')\n",
    "\n",
    "tn = qtn.TensorNetwork([ta, tb, tc])\n",
    "tn"
   ]
  },
  {
   "cell_type": "code",
   "execution_count": 14,
   "metadata": {},
   "outputs": [
    {
     "data": {
      "image/svg+xml": "<?xml version=\"1.0\" encoding=\"utf-8\" standalone=\"no\"?>\n<!DOCTYPE svg PUBLIC \"-//W3C//DTD SVG 1.1//EN\"\n  \"http://www.w3.org/Graphics/SVG/1.1/DTD/svg11.dtd\">\n<svg xmlns:xlink=\"http://www.w3.org/1999/xlink\" width=\"440.39952pt\" height=\"349.565061pt\" viewBox=\"0 0 440.39952 349.565061\" xmlns=\"http://www.w3.org/2000/svg\" version=\"1.1\">\n <metadata>\n  <rdf:RDF xmlns:dc=\"http://purl.org/dc/elements/1.1/\" xmlns:cc=\"http://creativecommons.org/ns#\" xmlns:rdf=\"http://www.w3.org/1999/02/22-rdf-syntax-ns#\">\n   <cc:Work>\n    <dc:type rdf:resource=\"http://purl.org/dc/dcmitype/StillImage\"/>\n    <dc:date>2022-12-05T17:11:08.527147</dc:date>\n    <dc:format>image/svg+xml</dc:format>\n    <dc:creator>\n     <cc:Agent>\n      <dc:title>Matplotlib v3.5.3, https://matplotlib.org/</dc:title>\n     </cc:Agent>\n    </dc:creator>\n   </cc:Work>\n  </rdf:RDF>\n </metadata>\n <defs>\n  <style type=\"text/css\">*{stroke-linejoin: round; stroke-linecap: butt}</style>\n </defs>\n <g id=\"figure_1\">\n  <g id=\"patch_1\">\n   <path d=\"M 0 349.565061 \nL 440.39952 349.565061 \nL 440.39952 0 \nL 0 0 \nL 0 349.565061 \nz\n\" style=\"fill: none; opacity: 0\"/>\n  </g>\n  <g id=\"axes_1\">\n   <g id=\"LineCollection_1\">\n    <path d=\"M 194.839943 156.445759 \nL 195.713748 48.247646 \n\" clip-path=\"url(#pc00f4c9b47)\" style=\"fill: none; stroke: #737880; stroke-opacity: 0.5\"/>\n    <path d=\"M 194.839943 156.445759 \nL 245.845836 246.461621 \n\" clip-path=\"url(#pc00f4c9b47)\" style=\"fill: none; stroke: #737880; stroke-opacity: 0.5; stroke-width: 1.584963\"/>\n    <path d=\"M 194.839943 156.445759 \nL 142.386866 245.626089 \n\" clip-path=\"url(#pc00f4c9b47)\" style=\"fill: none; stroke: #737880; stroke-opacity: 0.5; stroke-width: 1.584963\"/>\n    <path d=\"M 245.845836 246.461621 \nL 142.386866 245.626089 \n\" clip-path=\"url(#pc00f4c9b47)\" style=\"fill: none; stroke: #737880; stroke-opacity: 0.5; stroke-width: 1.584963\"/>\n    <path d=\"M 245.845836 246.461621 \nL 339.111249 301.317415 \n\" clip-path=\"url(#pc00f4c9b47)\" style=\"fill: none; stroke: #737880; stroke-opacity: 0.5\"/>\n    <path d=\"M 142.386866 245.626089 \nL 48.247646 298.968411 \n\" clip-path=\"url(#pc00f4c9b47)\" style=\"fill: none; stroke: #737880; stroke-opacity: 0.5\"/>\n   </g>\n   <g id=\"PathCollection_1\">\n    <path d=\"M 194.839943 167.209855 \nC 197.694615 167.209855 200.432751 166.075682 202.451308 164.057124 \nC 204.469866 162.038566 205.604039 159.30043 205.604039 156.445759 \nC 205.604039 153.591087 204.469866 150.852951 202.451308 148.834393 \nC 200.432751 146.815836 197.694615 145.681663 194.839943 145.681663 \nC 191.985271 145.681663 189.247135 146.815836 187.228578 148.834393 \nC 185.21002 150.852951 184.075847 153.591087 184.075847 156.445759 \nC 184.075847 159.30043 185.21002 162.038566 187.228578 164.057124 \nC 189.247135 166.075682 191.985271 167.209855 194.839943 167.209855 \nz\n\" clip-path=\"url(#pc00f4c9b47)\" style=\"fill: #56b4e9; stroke: #4590ba; stroke-width: 3\"/>\n    <path d=\"M 245.845836 257.225717 \nC 248.700508 257.225717 251.438644 256.091544 253.457202 254.072986 \nC 255.475759 252.054428 256.609932 249.316292 256.609932 246.461621 \nC 256.609932 243.606949 255.475759 240.868813 253.457202 238.850255 \nC 251.438644 236.831698 248.700508 235.697525 245.845836 235.697525 \nC 242.991165 235.697525 240.253029 236.831698 238.234471 238.850255 \nC 236.215913 240.868813 235.08174 243.606949 235.08174 246.461621 \nC 235.08174 249.316292 236.215913 252.054428 238.234471 254.072986 \nC 240.253029 256.091544 242.991165 257.225717 245.845836 257.225717 \nz\n\" clip-path=\"url(#pc00f4c9b47)\" style=\"fill: #009e73; stroke: #007e5c; stroke-width: 3\"/>\n    <path d=\"M 142.386866 256.390185 \nC 145.241538 256.390185 147.979674 255.256012 149.998231 253.237455 \nC 152.016789 251.218897 153.150962 248.480761 153.150962 245.626089 \nC 153.150962 242.771418 152.016789 240.033282 149.998231 238.014724 \nC 147.979674 235.996166 145.241538 234.861993 142.386866 234.861993 \nC 139.532194 234.861993 136.794058 235.996166 134.775501 238.014724 \nC 132.756943 240.033282 131.62277 242.771418 131.62277 245.626089 \nC 131.62277 248.480761 132.756943 251.218897 134.775501 253.237455 \nC 136.794058 255.256012 139.532194 256.390185 142.386866 256.390185 \nz\n\" clip-path=\"url(#pc00f4c9b47)\" style=\"fill: #e69f00; stroke: #b87f00; stroke-width: 3\"/>\n   </g>\n   <g id=\"PathCollection_2\">\n    <path d=\"M 195.713748 48.247646 \nC 195.713748 48.247646 195.713748 48.247646 195.713748 48.247646 \nC 195.713748 48.247646 195.713748 48.247646 195.713748 48.247646 \nC 195.713748 48.247646 195.713748 48.247646 195.713748 48.247646 \nC 195.713748 48.247646 195.713748 48.247646 195.713748 48.247646 \nC 195.713748 48.247646 195.713748 48.247646 195.713748 48.247646 \nC 195.713748 48.247646 195.713748 48.247646 195.713748 48.247646 \nC 195.713748 48.247646 195.713748 48.247646 195.713748 48.247646 \nC 195.713748 48.247646 195.713748 48.247646 195.713748 48.247646 \nz\n\" clip-path=\"url(#pc00f4c9b47)\" style=\"fill: #ffffff\"/>\n    <path d=\"M 48.247646 298.968411 \nC 48.247646 298.968411 48.247646 298.968411 48.247646 298.968411 \nC 48.247646 298.968411 48.247646 298.968411 48.247646 298.968411 \nC 48.247646 298.968411 48.247646 298.968411 48.247646 298.968411 \nC 48.247646 298.968411 48.247646 298.968411 48.247646 298.968411 \nC 48.247646 298.968411 48.247646 298.968411 48.247646 298.968411 \nC 48.247646 298.968411 48.247646 298.968411 48.247646 298.968411 \nC 48.247646 298.968411 48.247646 298.968411 48.247646 298.968411 \nC 48.247646 298.968411 48.247646 298.968411 48.247646 298.968411 \nz\n\" clip-path=\"url(#pc00f4c9b47)\" style=\"fill: #ffffff\"/>\n    <path d=\"M 339.111249 301.317415 \nC 339.111249 301.317415 339.111249 301.317415 339.111249 301.317415 \nC 339.111249 301.317415 339.111249 301.317415 339.111249 301.317415 \nC 339.111249 301.317415 339.111249 301.317415 339.111249 301.317415 \nC 339.111249 301.317415 339.111249 301.317415 339.111249 301.317415 \nC 339.111249 301.317415 339.111249 301.317415 339.111249 301.317415 \nC 339.111249 301.317415 339.111249 301.317415 339.111249 301.317415 \nC 339.111249 301.317415 339.111249 301.317415 339.111249 301.317415 \nC 339.111249 301.317415 339.111249 301.317415 339.111249 301.317415 \nz\n\" clip-path=\"url(#pc00f4c9b47)\" style=\"fill: #ffffff\"/>\n   </g>\n   <g id=\"text_1\">\n    <g clip-path=\"url(#pc00f4c9b47)\">\n     <!-- A -->\n     <g style=\"fill: #404040\" transform=\"translate(191.829787 159.231696)scale(0.1 -0.1)\">\n      <defs>\n       <path id=\"DejaVuSansMono-41\" d=\"M 1925 4109 \nL 1259 1722 \nL 2591 1722 \nL 1925 4109 \nz\nM 1544 4666 \nL 2309 4666 \nL 3738 0 \nL 3084 0 \nL 2741 1216 \nL 1106 1216 \nL 769 0 \nL 116 0 \nL 1544 4666 \nz\n\" transform=\"scale(0.015625)\"/>\n      </defs>\n      <use xlink:href=\"#DejaVuSansMono-41\"/>\n     </g>\n    </g>\n   </g>\n   <g id=\"text_2\">\n    <g clip-path=\"url(#pc00f4c9b47)\">\n     <!-- B -->\n     <g style=\"fill: #404040\" transform=\"translate(139.37671 248.412027)scale(0.1 -0.1)\">\n      <defs>\n       <path id=\"DejaVuSansMono-42\" d=\"M 1153 2228 \nL 1153 519 \nL 1900 519 \nQ 2450 519 2684 711 \nQ 2919 903 2919 1344 \nQ 2919 1800 2672 2014 \nQ 2425 2228 1900 2228 \nL 1153 2228 \nz\nM 1153 4147 \nL 1153 2741 \nL 1888 2741 \nQ 2344 2741 2548 2916 \nQ 2753 3091 2753 3481 \nQ 2753 3834 2551 3990 \nQ 2350 4147 1888 4147 \nL 1153 4147 \nz\nM 519 4666 \nL 1900 4666 \nQ 2616 4666 3003 4356 \nQ 3391 4047 3391 3481 \nQ 3391 3053 3186 2806 \nQ 2981 2559 2572 2497 \nQ 3031 2428 3292 2104 \nQ 3553 1781 3553 1281 \nQ 3553 647 3137 323 \nQ 2722 0 1900 0 \nL 519 0 \nL 519 4666 \nz\n\" transform=\"scale(0.015625)\"/>\n      </defs>\n      <use xlink:href=\"#DejaVuSansMono-42\"/>\n     </g>\n    </g>\n   </g>\n   <g id=\"text_3\">\n    <g clip-path=\"url(#pc00f4c9b47)\">\n     <!-- C -->\n     <g style=\"fill: #404040\" transform=\"translate(242.83568 249.247558)scale(0.1 -0.1)\">\n      <defs>\n       <path id=\"DejaVuSansMono-43\" d=\"M 3353 166 \nQ 3113 38 2859 -26 \nQ 2606 -91 2322 -91 \nQ 1425 -91 929 543 \nQ 434 1178 434 2328 \nQ 434 3472 932 4111 \nQ 1431 4750 2322 4750 \nQ 2606 4750 2859 4686 \nQ 3113 4622 3353 4494 \nL 3353 3847 \nQ 3122 4038 2856 4138 \nQ 2591 4238 2322 4238 \nQ 1706 4238 1400 3763 \nQ 1094 3288 1094 2328 \nQ 1094 1372 1400 897 \nQ 1706 422 2322 422 \nQ 2597 422 2861 522 \nQ 3125 622 3353 813 \nL 3353 166 \nz\n\" transform=\"scale(0.015625)\"/>\n      </defs>\n      <use xlink:href=\"#DejaVuSansMono-43\"/>\n     </g>\n    </g>\n   </g>\n   <g id=\"text_4\">\n    <g clip-path=\"url(#pc00f4c9b47)\">\n     <!-- a -->\n     <g style=\"fill: #404040\" transform=\"translate(192.703591 51.033583)scale(0.1 -0.1)\">\n      <defs>\n       <path id=\"DejaVuSansMono-61\" d=\"M 2194 1759 \nL 2003 1759 \nQ 1500 1759 1245 1582 \nQ 991 1406 991 1056 \nQ 991 741 1181 566 \nQ 1372 391 1709 391 \nQ 2184 391 2456 720 \nQ 2728 1050 2731 1631 \nL 2731 1759 \nL 2194 1759 \nz\nM 3309 1997 \nL 3309 0 \nL 2731 0 \nL 2731 519 \nQ 2547 206 2267 57 \nQ 1988 -91 1588 -91 \nQ 1053 -91 734 211 \nQ 416 513 416 1019 \nQ 416 1603 808 1906 \nQ 1200 2209 1959 2209 \nL 2731 2209 \nL 2731 2300 \nQ 2728 2719 2518 2908 \nQ 2309 3097 1850 3097 \nQ 1556 3097 1256 3012 \nQ 956 2928 672 2766 \nL 672 3341 \nQ 991 3463 1283 3523 \nQ 1575 3584 1850 3584 \nQ 2284 3584 2592 3456 \nQ 2900 3328 3091 3072 \nQ 3209 2916 3259 2686 \nQ 3309 2456 3309 1997 \nz\n\" transform=\"scale(0.015625)\"/>\n      </defs>\n      <use xlink:href=\"#DejaVuSansMono-61\"/>\n     </g>\n    </g>\n   </g>\n   <g id=\"text_5\">\n    <g clip-path=\"url(#pc00f4c9b47)\">\n     <!-- c -->\n     <g style=\"fill: #404040\" transform=\"translate(336.101093 304.103353)scale(0.1 -0.1)\">\n      <defs>\n       <path id=\"DejaVuSansMono-63\" d=\"M 3316 178 \nQ 3084 44 2839 -23 \nQ 2594 -91 2338 -91 \nQ 1525 -91 1067 396 \nQ 609 884 609 1747 \nQ 609 2609 1067 3096 \nQ 1525 3584 2338 3584 \nQ 2591 3584 2831 3518 \nQ 3072 3453 3316 3316 \nL 3316 2713 \nQ 3088 2916 2858 3006 \nQ 2628 3097 2338 3097 \nQ 1797 3097 1506 2747 \nQ 1216 2397 1216 1747 \nQ 1216 1100 1508 748 \nQ 1800 397 2338 397 \nQ 2638 397 2875 489 \nQ 3113 581 3316 775 \nL 3316 178 \nz\n\" transform=\"scale(0.015625)\"/>\n      </defs>\n      <use xlink:href=\"#DejaVuSansMono-63\"/>\n     </g>\n    </g>\n   </g>\n   <g id=\"text_6\">\n    <g clip-path=\"url(#pc00f4c9b47)\">\n     <!-- b -->\n     <g style=\"fill: #404040\" transform=\"translate(45.237489 301.754348)scale(0.1 -0.1)\">\n      <defs>\n       <path id=\"DejaVuSansMono-62\" d=\"M 2869 1747 \nQ 2869 2416 2656 2756 \nQ 2444 3097 2028 3097 \nQ 1609 3097 1393 2755 \nQ 1178 2413 1178 1747 \nQ 1178 1084 1393 740 \nQ 1609 397 2028 397 \nQ 2444 397 2656 737 \nQ 2869 1078 2869 1747 \nz\nM 1178 3053 \nQ 1316 3309 1558 3446 \nQ 1800 3584 2119 3584 \nQ 2750 3584 3112 3098 \nQ 3475 2613 3475 1759 \nQ 3475 894 3111 401 \nQ 2747 -91 2113 -91 \nQ 1800 -91 1561 45 \nQ 1322 181 1178 441 \nL 1178 0 \nL 603 0 \nL 603 4863 \nL 1178 4863 \nL 1178 3053 \nz\n\" transform=\"scale(0.015625)\"/>\n      </defs>\n      <use xlink:href=\"#DejaVuSansMono-62\"/>\n     </g>\n    </g>\n   </g>\n   <g id=\"legend_1\">\n    <g id=\"patch_2\">\n     <path d=\"M 387.158895 198.379405 \nL 431.19952 198.379405 \nQ 433.19952 198.379405 433.19952 196.379405 \nL 433.19952 153.185655 \nQ 433.19952 151.185655 431.19952 151.185655 \nL 387.158895 151.185655 \nQ 385.158895 151.185655 385.158895 153.185655 \nL 385.158895 196.379405 \nQ 385.158895 198.379405 387.158895 198.379405 \nL 387.158895 198.379405 \nz\n\" style=\"fill: none; stroke: #999999; stroke-opacity: 0.2; stroke-linejoin: miter\"/>\n    </g>\n    <g id=\"line2d_1\">\n     <defs>\n      <path id=\"m08b033b702\" d=\"M 0 5 \nC 1.326016 5 2.597899 4.473168 3.535534 3.535534 \nC 4.473168 2.597899 5 1.326016 5 0 \nC 5 -1.326016 4.473168 -2.597899 3.535534 -3.535534 \nC 2.597899 -4.473168 1.326016 -5 0 -5 \nC -1.326016 -5 -2.597899 -4.473168 -3.535534 -3.535534 \nC -4.473168 -2.597899 -5 -1.326016 -5 0 \nC -5 1.326016 -4.473168 2.597899 -3.535534 3.535534 \nC -2.597899 4.473168 -1.326016 5 0 5 \nz\n\" style=\"stroke: #4590ba; stroke-width: 3\"/>\n     </defs>\n     <g>\n      <use xlink:href=\"#m08b033b702\" x=\"399.158895\" y=\"159.337218\" style=\"fill: #56b4e9; stroke: #4590ba; stroke-width: 3\"/>\n     </g>\n    </g>\n    <g id=\"text_7\">\n     <!--  A -->\n     <g style=\"fill: #404040\" transform=\"translate(417.158895 162.837218)scale(0.1 -0.1)\">\n      <defs>\n       <path id=\"DejaVuSansMono-20\" transform=\"scale(0.015625)\"/>\n      </defs>\n      <use xlink:href=\"#DejaVuSansMono-20\"/>\n      <use xlink:href=\"#DejaVuSansMono-41\" x=\"60.205078\"/>\n     </g>\n    </g>\n    <g id=\"line2d_2\">\n     <defs>\n      <path id=\"m828126830c\" d=\"M 0 5 \nC 1.326016 5 2.597899 4.473168 3.535534 3.535534 \nC 4.473168 2.597899 5 1.326016 5 0 \nC 5 -1.326016 4.473168 -2.597899 3.535534 -3.535534 \nC 2.597899 -4.473168 1.326016 -5 0 -5 \nC -1.326016 -5 -2.597899 -4.473168 -3.535534 -3.535534 \nC -4.473168 -2.597899 -5 -1.326016 -5 0 \nC -5 1.326016 -4.473168 2.597899 -3.535534 3.535534 \nC -2.597899 4.473168 -1.326016 5 0 5 \nz\n\" style=\"stroke: #b87f00; stroke-width: 3\"/>\n     </defs>\n     <g>\n      <use xlink:href=\"#m828126830c\" x=\"399.158895\" y=\"174.068468\" style=\"fill: #e69f00; stroke: #b87f00; stroke-width: 3\"/>\n     </g>\n    </g>\n    <g id=\"text_8\">\n     <!--  B -->\n     <g style=\"fill: #404040\" transform=\"translate(417.158895 177.568468)scale(0.1 -0.1)\">\n      <use xlink:href=\"#DejaVuSansMono-20\"/>\n      <use xlink:href=\"#DejaVuSansMono-42\" x=\"60.205078\"/>\n     </g>\n    </g>\n    <g id=\"line2d_3\">\n     <defs>\n      <path id=\"mc3bbc676c1\" d=\"M 0 5 \nC 1.326016 5 2.597899 4.473168 3.535534 3.535534 \nC 4.473168 2.597899 5 1.326016 5 0 \nC 5 -1.326016 4.473168 -2.597899 3.535534 -3.535534 \nC 2.597899 -4.473168 1.326016 -5 0 -5 \nC -1.326016 -5 -2.597899 -4.473168 -3.535534 -3.535534 \nC -4.473168 -2.597899 -5 -1.326016 -5 0 \nC -5 1.326016 -4.473168 2.597899 -3.535534 3.535534 \nC -2.597899 4.473168 -1.326016 5 0 5 \nz\n\" style=\"stroke: #007e5c; stroke-width: 3\"/>\n     </defs>\n     <g>\n      <use xlink:href=\"#mc3bbc676c1\" x=\"399.158895\" y=\"188.799718\" style=\"fill: #009e73; stroke: #007e5c; stroke-width: 3\"/>\n     </g>\n    </g>\n    <g id=\"text_9\">\n     <!--  C -->\n     <g style=\"fill: #404040\" transform=\"translate(417.158895 192.299718)scale(0.1 -0.1)\">\n      <use xlink:href=\"#DejaVuSansMono-20\"/>\n      <use xlink:href=\"#DejaVuSansMono-43\" x=\"60.205078\"/>\n     </g>\n    </g>\n   </g>\n  </g>\n </g>\n <defs>\n  <clipPath id=\"pc00f4c9b47\">\n   <rect x=\"7.2\" y=\"7.2\" width=\"372.958895\" height=\"335.165061\"/>\n  </clipPath>\n </defs>\n</svg>\n",
      "text/plain": [
       "<Figure size 600x600 with 1 Axes>"
      ]
     },
     "metadata": {},
     "output_type": "display_data"
    }
   ],
   "source": [
    "tn.draw(color=['A', 'B', 'C'])"
   ]
  },
  {
   "cell_type": "markdown",
   "metadata": {
    "raw_mimetype": "text/restructuredtext"
   },
   "source": [
    ":::{note}\n",
    "By default TNs take copies of the input tensors,\n",
    "(but again, not the actual data array).\n",
    "This can be turned off and it is\n",
    "possible e.g. to create multiple TNs that view\n",
    "the same tensors - see {ref}`virtualtns`.\n",
    ":::\n",
    "\n",
    "Tensor networks also have three key attributes...\n",
    "\n",
    "### `TensorNetwork.tensor_map`\n",
    "\n",
    "The key storage of a {class}`~quimb.tensor.tensor_core.TensorNetwork`\n",
    "is the `tensor_map` attribute. This is a mapping of 'tids' - unique\n",
    "integers reprensenting nodes in the network - to the actual tensor at\n",
    "that node, which need not be unique."
   ]
  },
  {
   "cell_type": "code",
   "execution_count": 15,
   "metadata": {},
   "outputs": [
    {
     "data": {
      "text/plain": [
       "{0: Tensor(shape=(2, 3, 3), inds=('a', 'x', 'y'), tags=oset(['A'])),\n",
       " 1: Tensor(shape=(2, 3, 3), inds=('b', 'y', 'z'), tags=oset(['B'])),\n",
       " 2: Tensor(shape=(2, 3, 3), inds=('c', 'z', 'x'), tags=oset(['C']))}"
      ]
     },
     "execution_count": 15,
     "metadata": {},
     "output_type": "execute_result"
    }
   ],
   "source": [
    "tn.tensor_map"
   ]
  },
  {
   "cell_type": "markdown",
   "metadata": {
    "raw_mimetype": "text/restructuredtext"
   },
   "source": [
    "This means that the same tensor can be in the same or different tensor networks multiple times.\n",
    "\n",
    ":::{hint}\n",
    "`'tids'` are essentially vertex labels in the (hyper) graph of the TN.\n",
    ":::\n",
    "\n",
    "### `TensorNetwork.ind_map`\n",
    "\n",
    "This is a mapping of every index in the tensor network to the ordered\n",
    "set of 'tids' of the tensors which have that index."
   ]
  },
  {
   "cell_type": "code",
   "execution_count": 16,
   "metadata": {},
   "outputs": [
    {
     "data": {
      "text/plain": [
       "{'a': oset([0]),\n",
       " 'x': oset([0, 2]),\n",
       " 'y': oset([0, 1]),\n",
       " 'b': oset([1]),\n",
       " 'z': oset([1, 2]),\n",
       " 'c': oset([2])}"
      ]
     },
     "execution_count": 16,
     "metadata": {},
     "output_type": "execute_result"
    }
   ],
   "source": [
    "tn.ind_map"
   ]
  },
  {
   "cell_type": "markdown",
   "metadata": {},
   "source": [
    "For example if we wanted all tensors with the ``'z'`` index, we could call:"
   ]
  },
  {
   "cell_type": "code",
   "execution_count": 17,
   "metadata": {},
   "outputs": [
    {
     "data": {
      "text/plain": [
       "[Tensor(shape=(2, 3, 3), inds=('b', 'y', 'z'), tags=oset(['B'])),\n",
       " Tensor(shape=(2, 3, 3), inds=('c', 'z', 'x'), tags=oset(['C']))]"
      ]
     },
     "execution_count": 17,
     "metadata": {},
     "output_type": "execute_result"
    }
   ],
   "source": [
    "[tn.tensor_map[tid] for tid in tn.ind_map['z']]"
   ]
  },
  {
   "cell_type": "markdown",
   "metadata": {
    "raw_mimetype": "text/restructuredtext"
   },
   "source": [
    ":::{hint}\n",
    "`ind_map[ix]` is essentially the set of (hyper) graph vertices the\n",
    "(hyper) edge `ix` is incident to.\n",
    ":::\n",
    "\n",
    "### `TensorNetwork.tag_map`\n",
    "\n",
    "Similarly, this is a mapping of every tag in the tensor network to the ordered\n",
    "set of 'tids' of the tensors which have that tag."
   ]
  },
  {
   "cell_type": "code",
   "execution_count": 18,
   "metadata": {},
   "outputs": [
    {
     "data": {
      "text/plain": [
       "{'A': oset([0]), 'B': oset([1]), 'C': oset([2])}"
      ]
     },
     "execution_count": 18,
     "metadata": {},
     "output_type": "execute_result"
    }
   ],
   "source": [
    "tn.tag_map"
   ]
  },
  {
   "cell_type": "markdown",
   "metadata": {},
   "source": [
    "If we wanted all tensors tagged with ``'B'`` we could call:"
   ]
  },
  {
   "cell_type": "code",
   "execution_count": 19,
   "metadata": {},
   "outputs": [
    {
     "data": {
      "text/plain": [
       "[Tensor(shape=(2, 3, 3), inds=('b', 'y', 'z'), tags=oset(['B']))]"
      ]
     },
     "execution_count": 19,
     "metadata": {},
     "output_type": "execute_result"
    }
   ],
   "source": [
    "[tn.tensor_map[tid] for tid in tn.tag_map['B']]"
   ]
  },
  {
   "cell_type": "markdown",
   "metadata": {
    "raw_mimetype": "text/restructuredtext"
   },
   "source": [
    "## Selecting Tensors Based on Tags - the `which` kwarg\n",
    "\n",
    "`tags` are the main high level method for labelling and\n",
    "accessing tensors. Many functions which take a `tags` and\n",
    "`which` arg, e.g. [`TensorNetwork.select`](quimb.tensor.tensor_core.TensorNetwork.select)\n",
    "internally call\n",
    "{meth}`~quimb.tensor.tensor_core.TensorNetwork._get_tids_from_tags`.\n",
    "When supplied to this, the `which` kwarg takes four options:\n",
    "\n",
    "- `'all'` return tids for tensors which match **all** the tags\n",
    "- `'!all'` return tids for tensors which *don't* match **all** the tags\n",
    "- `'any'` return tids for tensors which match **any** of the tags\n",
    "- `'!any'` return tids for tensors which *don't* match **any** of the tags"
   ]
  },
  {
   "cell_type": "code",
   "execution_count": 20,
   "metadata": {},
   "outputs": [
    {
     "data": {
      "text/plain": [
       "oset([0, 1])"
      ]
     },
     "execution_count": 20,
     "metadata": {},
     "output_type": "execute_result"
    }
   ],
   "source": [
    "tn._get_tids_from_tags(['A', 'B'], which='any')"
   ]
  },
  {
   "cell_type": "markdown",
   "metadata": {
    "raw_mimetype": "text/restructuredtext"
   },
   "source": [
    "## Copying & Modifying Tensor Networks\n",
    "\n",
    "Tensor networks also have a\n",
    "[`TensorNetwork.copy`](quimb.tensor.tensor_core.TensorNetwork.copy) method which\n",
    "is used heavily. As with creation, by default this copies both\n",
    "the TN and the tensors it contains (but again, not their data).\n",
    "\n",
    "In terms of modifying tensor networks, `quimb` takes the general\n",
    "approach that you **directly modify tensors in a TN,\n",
    "which then automatically tell the TN, and possibly other\n",
    "TNs, about any relevant changes**."
   ]
  },
  {
   "cell_type": "code",
   "execution_count": 21,
   "metadata": {},
   "outputs": [
    {
     "data": {
      "text/plain": [
       "{'x': oset([0, 2]),\n",
       " 'y': oset([0, 1]),\n",
       " 'b': oset([1, 0]),\n",
       " 'z': oset([1, 2]),\n",
       " 'c': oset([2])}"
      ]
     },
     "execution_count": 21,
     "metadata": {},
     "output_type": "execute_result"
    }
   ],
   "source": [
    "# get the tensor identified by tag 'A'\n",
    "t = tn['A']  \n",
    "\n",
    "# inplace rename an index\n",
    "t.reindex_({'a': 'b'})\n",
    "\n",
    "# changes are automatically reflected in ``tn``\n",
    "tn.ind_map"
   ]
  },
  {
   "cell_type": "code",
   "execution_count": 22,
   "metadata": {},
   "outputs": [
    {
     "data": {
      "image/svg+xml": "<?xml version=\"1.0\" encoding=\"utf-8\" standalone=\"no\"?>\n<!DOCTYPE svg PUBLIC \"-//W3C//DTD SVG 1.1//EN\"\n  \"http://www.w3.org/Graphics/SVG/1.1/DTD/svg11.dtd\">\n<svg xmlns:xlink=\"http://www.w3.org/1999/xlink\" width=\"440.39952pt\" height=\"217.021076pt\" viewBox=\"0 0 440.39952 217.021076\" xmlns=\"http://www.w3.org/2000/svg\" version=\"1.1\">\n <metadata>\n  <rdf:RDF xmlns:dc=\"http://purl.org/dc/elements/1.1/\" xmlns:cc=\"http://creativecommons.org/ns#\" xmlns:rdf=\"http://www.w3.org/1999/02/22-rdf-syntax-ns#\">\n   <cc:Work>\n    <dc:type rdf:resource=\"http://purl.org/dc/dcmitype/StillImage\"/>\n    <dc:date>2022-12-05T17:14:03.687868</dc:date>\n    <dc:format>image/svg+xml</dc:format>\n    <dc:creator>\n     <cc:Agent>\n      <dc:title>Matplotlib v3.5.3, https://matplotlib.org/</dc:title>\n     </cc:Agent>\n    </dc:creator>\n   </cc:Work>\n  </rdf:RDF>\n </metadata>\n <defs>\n  <style type=\"text/css\">*{stroke-linejoin: round; stroke-linecap: butt}</style>\n </defs>\n <g id=\"figure_1\">\n  <g id=\"patch_1\">\n   <path d=\"M 0 217.021076 \nL 440.39952 217.021076 \nL 440.39952 0 \nL 0 0 \nL 0 217.021076 \nz\n\" style=\"fill: none; opacity: 0\"/>\n  </g>\n  <g id=\"axes_1\">\n   <g id=\"LineCollection_1\">\n    <path d=\"M 51.580922 51.580922 \nL 186.092851 84.515075 \n\" clip-path=\"url(#pec7bf1fc7e)\" style=\"fill: none; stroke: #737880; stroke-opacity: 0.5; stroke-width: 1.584963\"/>\n    <path d=\"M 51.580922 51.580922 \nL 73.712919 165.440154 \n\" clip-path=\"url(#pec7bf1fc7e)\" style=\"fill: none\"/>\n    <path d=\"M 186.092851 84.515075 \nL 73.712919 165.440154 \n\" clip-path=\"url(#pec7bf1fc7e)\" style=\"fill: none; stroke: #737880; stroke-opacity: 0.5; stroke-width: 1.584963\"/>\n    <path d=\"M 186.092851 84.515075 \nL 335.777973 55.419229 \n\" clip-path=\"url(#pec7bf1fc7e)\" style=\"fill: none; stroke: #737880; stroke-opacity: 0.5\"/>\n   </g>\n   <g id=\"patch_2\">\n    <path d=\"M 52.738164 53.212343 \nQ 84.670522 103.987767 74.263835 162.99311 \nL 74.411555 163.019163 \nQ 74.24473 163.245371 74.077281 163.471031 \nQ 73.998652 163.201255 73.919155 162.932319 \nL 74.066875 162.958372 \nQ 84.460169 104.028967 52.568862 53.318816 \nL 52.738164 53.212343 \nz\n\" clip-path=\"url(#pec7bf1fc7e)\" style=\"fill: #737880; opacity: 0.5; stroke: #737880; stroke-width: 1.584963; stroke-linecap: round\"/>\n   </g>\n   <g id=\"patch_3\">\n    <path d=\"M 51.315948 53.562358 \nQ 40.743204 112.526686 72.455046 163.27168 \nL 72.58225 163.192187 \nQ 72.609286 163.471321 72.637442 163.750907 \nQ 72.397654 163.604407 72.158236 163.457164 \nL 72.28544 163.377671 \nQ 40.532734 112.567286 51.119087 53.527059 \nL 51.315948 53.562358 \nz\n\" clip-path=\"url(#pec7bf1fc7e)\" style=\"fill: #737880; opacity: 0.5; stroke: #737880; stroke-linecap: round\"/>\n   </g>\n   <g id=\"PathCollection_1\">\n    <path d=\"M 51.580922 62.345018 \nC 54.435594 62.345018 57.17373 61.210845 59.192288 59.192288 \nC 61.210845 57.17373 62.345018 54.435594 62.345018 51.580922 \nC 62.345018 48.726251 61.210845 45.988115 59.192288 43.969557 \nC 57.17373 41.950999 54.435594 40.816826 51.580922 40.816826 \nC 48.726251 40.816826 45.988115 41.950999 43.969557 43.969557 \nC 41.950999 45.988115 40.816826 48.726251 40.816826 51.580922 \nC 40.816826 54.435594 41.950999 57.17373 43.969557 59.192288 \nC 45.988115 61.210845 48.726251 62.345018 51.580922 62.345018 \nz\n\" clip-path=\"url(#pec7bf1fc7e)\" style=\"fill: #56b4e9; stroke: #4590ba; stroke-width: 3\"/>\n    <path d=\"M 186.092851 95.279171 \nC 188.947523 95.279171 191.685659 94.144998 193.704217 92.12644 \nC 195.722774 90.107883 196.856948 87.369747 196.856948 84.515075 \nC 196.856948 81.660403 195.722774 78.922267 193.704217 76.90371 \nC 191.685659 74.885152 188.947523 73.750979 186.092851 73.750979 \nC 183.23818 73.750979 180.500044 74.885152 178.481486 76.90371 \nC 176.462928 78.922267 175.328755 81.660403 175.328755 84.515075 \nC 175.328755 87.369747 176.462928 90.107883 178.481486 92.12644 \nC 180.500044 94.144998 183.23818 95.279171 186.092851 95.279171 \nz\n\" clip-path=\"url(#pec7bf1fc7e)\" style=\"fill: #009e73; stroke: #007e5c; stroke-width: 3\"/>\n    <path d=\"M 73.712919 176.20425 \nC 76.567591 176.20425 79.305727 175.070077 81.324285 173.051519 \nC 83.342842 171.032961 84.477015 168.294825 84.477015 165.440154 \nC 84.477015 162.585482 83.342842 159.847346 81.324285 157.828788 \nC 79.305727 155.810231 76.567591 154.676058 73.712919 154.676058 \nC 70.858248 154.676058 68.120112 155.810231 66.101554 157.828788 \nC 64.082996 159.847346 62.948823 162.585482 62.948823 165.440154 \nC 62.948823 168.294825 64.082996 171.032961 66.101554 173.051519 \nC 68.120112 175.070077 70.858248 176.20425 73.712919 176.20425 \nz\n\" clip-path=\"url(#pec7bf1fc7e)\" style=\"fill: #e69f00; stroke: #b87f00; stroke-width: 3\"/>\n   </g>\n   <g id=\"PathCollection_2\">\n    <path d=\"M 335.777973 55.419229 \nC 335.777973 55.419229 335.777973 55.419229 335.777973 55.419229 \nC 335.777973 55.419229 335.777973 55.419229 335.777973 55.419229 \nC 335.777973 55.419229 335.777973 55.419229 335.777973 55.419229 \nC 335.777973 55.419229 335.777973 55.419229 335.777973 55.419229 \nC 335.777973 55.419229 335.777973 55.419229 335.777973 55.419229 \nC 335.777973 55.419229 335.777973 55.419229 335.777973 55.419229 \nC 335.777973 55.419229 335.777973 55.419229 335.777973 55.419229 \nC 335.777973 55.419229 335.777973 55.419229 335.777973 55.419229 \nz\n\" clip-path=\"url(#pec7bf1fc7e)\" style=\"fill: #ffffff\"/>\n   </g>\n   <g id=\"text_1\">\n    <g clip-path=\"url(#pec7bf1fc7e)\">\n     <!-- A -->\n     <g style=\"fill: #404040\" transform=\"translate(48.570766 54.36686)scale(0.1 -0.1)\">\n      <defs>\n       <path id=\"DejaVuSansMono-41\" d=\"M 1925 4109 \nL 1259 1722 \nL 2591 1722 \nL 1925 4109 \nz\nM 1544 4666 \nL 2309 4666 \nL 3738 0 \nL 3084 0 \nL 2741 1216 \nL 1106 1216 \nL 769 0 \nL 116 0 \nL 1544 4666 \nz\n\" transform=\"scale(0.015625)\"/>\n      </defs>\n      <use xlink:href=\"#DejaVuSansMono-41\"/>\n     </g>\n    </g>\n   </g>\n   <g id=\"text_2\">\n    <g clip-path=\"url(#pec7bf1fc7e)\">\n     <!-- B -->\n     <g style=\"fill: #404040\" transform=\"translate(70.702763 168.226091)scale(0.1 -0.1)\">\n      <defs>\n       <path id=\"DejaVuSansMono-42\" d=\"M 1153 2228 \nL 1153 519 \nL 1900 519 \nQ 2450 519 2684 711 \nQ 2919 903 2919 1344 \nQ 2919 1800 2672 2014 \nQ 2425 2228 1900 2228 \nL 1153 2228 \nz\nM 1153 4147 \nL 1153 2741 \nL 1888 2741 \nQ 2344 2741 2548 2916 \nQ 2753 3091 2753 3481 \nQ 2753 3834 2551 3990 \nQ 2350 4147 1888 4147 \nL 1153 4147 \nz\nM 519 4666 \nL 1900 4666 \nQ 2616 4666 3003 4356 \nQ 3391 4047 3391 3481 \nQ 3391 3053 3186 2806 \nQ 2981 2559 2572 2497 \nQ 3031 2428 3292 2104 \nQ 3553 1781 3553 1281 \nQ 3553 647 3137 323 \nQ 2722 0 1900 0 \nL 519 0 \nL 519 4666 \nz\n\" transform=\"scale(0.015625)\"/>\n      </defs>\n      <use xlink:href=\"#DejaVuSansMono-42\"/>\n     </g>\n    </g>\n   </g>\n   <g id=\"text_3\">\n    <g clip-path=\"url(#pec7bf1fc7e)\">\n     <!-- C -->\n     <g style=\"fill: #404040\" transform=\"translate(183.082695 87.301013)scale(0.1 -0.1)\">\n      <defs>\n       <path id=\"DejaVuSansMono-43\" d=\"M 3353 166 \nQ 3113 38 2859 -26 \nQ 2606 -91 2322 -91 \nQ 1425 -91 929 543 \nQ 434 1178 434 2328 \nQ 434 3472 932 4111 \nQ 1431 4750 2322 4750 \nQ 2606 4750 2859 4686 \nQ 3113 4622 3353 4494 \nL 3353 3847 \nQ 3122 4038 2856 4138 \nQ 2591 4238 2322 4238 \nQ 1706 4238 1400 3763 \nQ 1094 3288 1094 2328 \nQ 1094 1372 1400 897 \nQ 1706 422 2322 422 \nQ 2597 422 2861 522 \nQ 3125 622 3353 813 \nL 3353 166 \nz\n\" transform=\"scale(0.015625)\"/>\n      </defs>\n      <use xlink:href=\"#DejaVuSansMono-43\"/>\n     </g>\n    </g>\n   </g>\n   <g id=\"text_4\">\n    <g clip-path=\"url(#pec7bf1fc7e)\">\n     <!-- c -->\n     <g style=\"fill: #404040\" transform=\"translate(332.767816 58.205167)scale(0.1 -0.1)\">\n      <defs>\n       <path id=\"DejaVuSansMono-63\" d=\"M 3316 178 \nQ 3084 44 2839 -23 \nQ 2594 -91 2338 -91 \nQ 1525 -91 1067 396 \nQ 609 884 609 1747 \nQ 609 2609 1067 3096 \nQ 1525 3584 2338 3584 \nQ 2591 3584 2831 3518 \nQ 3072 3453 3316 3316 \nL 3316 2713 \nQ 3088 2916 2858 3006 \nQ 2628 3097 2338 3097 \nQ 1797 3097 1506 2747 \nQ 1216 2397 1216 1747 \nQ 1216 1100 1508 748 \nQ 1800 397 2338 397 \nQ 2638 397 2875 489 \nQ 3113 581 3316 775 \nL 3316 178 \nz\n\" transform=\"scale(0.015625)\"/>\n      </defs>\n      <use xlink:href=\"#DejaVuSansMono-63\"/>\n     </g>\n    </g>\n   </g>\n   <g id=\"legend_1\">\n    <g id=\"patch_4\">\n     <path d=\"M 387.158895 132.107413 \nL 431.19952 132.107413 \nQ 433.19952 132.107413 433.19952 130.107413 \nL 433.19952 86.913663 \nQ 433.19952 84.913663 431.19952 84.913663 \nL 387.158895 84.913663 \nQ 385.158895 84.913663 385.158895 86.913663 \nL 385.158895 130.107413 \nQ 385.158895 132.107413 387.158895 132.107413 \nL 387.158895 132.107413 \nz\n\" style=\"fill: none; stroke: #999999; stroke-opacity: 0.2; stroke-linejoin: miter\"/>\n    </g>\n    <g id=\"line2d_1\">\n     <defs>\n      <path id=\"m652d69fc74\" d=\"M 0 5 \nC 1.326016 5 2.597899 4.473168 3.535534 3.535534 \nC 4.473168 2.597899 5 1.326016 5 0 \nC 5 -1.326016 4.473168 -2.597899 3.535534 -3.535534 \nC 2.597899 -4.473168 1.326016 -5 0 -5 \nC -1.326016 -5 -2.597899 -4.473168 -3.535534 -3.535534 \nC -4.473168 -2.597899 -5 -1.326016 -5 0 \nC -5 1.326016 -4.473168 2.597899 -3.535534 3.535534 \nC -2.597899 4.473168 -1.326016 5 0 5 \nz\n\" style=\"stroke: #4590ba; stroke-width: 3\"/>\n     </defs>\n     <g>\n      <use xlink:href=\"#m652d69fc74\" x=\"399.158895\" y=\"93.065226\" style=\"fill: #56b4e9; stroke: #4590ba; stroke-width: 3\"/>\n     </g>\n    </g>\n    <g id=\"text_5\">\n     <!--  A -->\n     <g style=\"fill: #404040\" transform=\"translate(417.158895 96.565226)scale(0.1 -0.1)\">\n      <defs>\n       <path id=\"DejaVuSansMono-20\" transform=\"scale(0.015625)\"/>\n      </defs>\n      <use xlink:href=\"#DejaVuSansMono-20\"/>\n      <use xlink:href=\"#DejaVuSansMono-41\" x=\"60.205078\"/>\n     </g>\n    </g>\n    <g id=\"line2d_2\">\n     <defs>\n      <path id=\"m9358489664\" d=\"M 0 5 \nC 1.326016 5 2.597899 4.473168 3.535534 3.535534 \nC 4.473168 2.597899 5 1.326016 5 0 \nC 5 -1.326016 4.473168 -2.597899 3.535534 -3.535534 \nC 2.597899 -4.473168 1.326016 -5 0 -5 \nC -1.326016 -5 -2.597899 -4.473168 -3.535534 -3.535534 \nC -4.473168 -2.597899 -5 -1.326016 -5 0 \nC -5 1.326016 -4.473168 2.597899 -3.535534 3.535534 \nC -2.597899 4.473168 -1.326016 5 0 5 \nz\n\" style=\"stroke: #b87f00; stroke-width: 3\"/>\n     </defs>\n     <g>\n      <use xlink:href=\"#m9358489664\" x=\"399.158895\" y=\"107.796476\" style=\"fill: #e69f00; stroke: #b87f00; stroke-width: 3\"/>\n     </g>\n    </g>\n    <g id=\"text_6\">\n     <!--  B -->\n     <g style=\"fill: #404040\" transform=\"translate(417.158895 111.296476)scale(0.1 -0.1)\">\n      <use xlink:href=\"#DejaVuSansMono-20\"/>\n      <use xlink:href=\"#DejaVuSansMono-42\" x=\"60.205078\"/>\n     </g>\n    </g>\n    <g id=\"line2d_3\">\n     <defs>\n      <path id=\"m96d478918b\" d=\"M 0 5 \nC 1.326016 5 2.597899 4.473168 3.535534 3.535534 \nC 4.473168 2.597899 5 1.326016 5 0 \nC 5 -1.326016 4.473168 -2.597899 3.535534 -3.535534 \nC 2.597899 -4.473168 1.326016 -5 0 -5 \nC -1.326016 -5 -2.597899 -4.473168 -3.535534 -3.535534 \nC -4.473168 -2.597899 -5 -1.326016 -5 0 \nC -5 1.326016 -4.473168 2.597899 -3.535534 3.535534 \nC -2.597899 4.473168 -1.326016 5 0 5 \nz\n\" style=\"stroke: #007e5c; stroke-width: 3\"/>\n     </defs>\n     <g>\n      <use xlink:href=\"#m96d478918b\" x=\"399.158895\" y=\"122.527726\" style=\"fill: #009e73; stroke: #007e5c; stroke-width: 3\"/>\n     </g>\n    </g>\n    <g id=\"text_7\">\n     <!--  C -->\n     <g style=\"fill: #404040\" transform=\"translate(417.158895 126.027726)scale(0.1 -0.1)\">\n      <use xlink:href=\"#DejaVuSansMono-20\"/>\n      <use xlink:href=\"#DejaVuSansMono-43\" x=\"60.205078\"/>\n     </g>\n    </g>\n   </g>\n  </g>\n </g>\n <defs>\n  <clipPath id=\"pec7bf1fc7e\">\n   <rect x=\"7.2\" y=\"7.2\" width=\"372.958895\" height=\"202.621076\"/>\n  </clipPath>\n </defs>\n</svg>\n",
      "text/plain": [
       "<Figure size 600x600 with 1 Axes>"
      ]
     },
     "metadata": {},
     "output_type": "display_data"
    }
   ],
   "source": [
    "# 'b' should now be traced over\n",
    "tn.draw(color=['A', 'B', 'C'])"
   ]
  },
  {
   "cell_type": "raw",
   "metadata": {
    "raw_mimetype": "text/restructuredtext"
   },
   "source": [
    "This functionality is enabled by tensors having 'owners' - see {ref}`tensorowners`.\n",
    "\n",
    "The following function demonstrates the anatomy of a typical\n",
    "tensor network function. It performs the (probably not useful task) of:\n",
    "\n",
    "1. Getting all the tensors corresponding to a particular `tag`\n",
    "2. Getting all the tensors neighboring to these\n",
    "3. Performing a backend-agnostic `tanh` on the data of all these tensors"
   ]
  },
  {
   "cell_type": "code",
   "execution_count": 23,
   "metadata": {},
   "outputs": [],
   "source": [
    "def tanh_neighbors(self, tag, inplace=False):\n",
    "    \"\"\"Example function that demonstrates the anatomy of a \n",
    "    typical tensor network  method, using ``tensor_map``, \n",
    "    ``ind_map``, ``tag_map``, and ``modify``.\n",
    "    \"\"\"\n",
    "    # easily handle both copy and non copy methods\n",
    "    tn = self if inplace else self.copy()\n",
    "    \n",
    "    # get the unique tensor identifiers from our tag\n",
    "    tids = tn.tag_map[tag]\n",
    "    \n",
    "    # collect neighbors in here -> oset for determinism\n",
    "    neighbors = qtn.oset()\n",
    "    \n",
    "    # for every tid in our tagged region\n",
    "    for tid in tids:\n",
    "        \n",
    "        # get the tensor\n",
    "        t = tn.tensor_map[tid]\n",
    "        \n",
    "        # for each of its inds\n",
    "        for ix in t.inds:\n",
    "            \n",
    "            # add all tensors with that index to neighbors\n",
    "            neighbors |= tn.ind_map[ix]\n",
    "            \n",
    "    # now apply tanh to our expanded region\n",
    "    for tid in neighbors:\n",
    "        # always use modify and autoray to update tensors\n",
    "        t = tn.tensor_map[tid]\n",
    "        t.modify(data=do('tanh', t.data))\n",
    "    \n",
    "    # return tn even if self (i.e. inplace) for method chaining\n",
    "    return tn\n",
    "\n",
    "qtn.TensorNetwork.tanh_neighbors = tanh_neighbors\n",
    "\n",
    "# create trailing underscore inplace version\n",
    "import functools\n",
    "qtn.TensorNetwork.tanh_neighbors_ =  \\\n",
    "    functools.partialmethod(tanh_neighbors, inplace=True)"
   ]
  },
  {
   "cell_type": "markdown",
   "metadata": {},
   "source": [
    "In use:"
   ]
  },
  {
   "cell_type": "code",
   "execution_count": 24,
   "metadata": {},
   "outputs": [
    {
     "data": {
      "text/plain": [
       "0.29875539039274684"
      ]
     },
     "execution_count": 24,
     "metadata": {},
     "output_type": "execute_result"
    }
   ],
   "source": [
    "tn['A'].data.item(0)"
   ]
  },
  {
   "cell_type": "code",
   "execution_count": 25,
   "metadata": {},
   "outputs": [
    {
     "data": {
      "text/plain": [
       "<TensorNetwork(tensors=3, indices=5)>"
      ]
     },
     "execution_count": 25,
     "metadata": {},
     "output_type": "execute_result"
    }
   ],
   "source": [
    "tn.tanh_neighbors_('B')"
   ]
  },
  {
   "cell_type": "code",
   "execution_count": 26,
   "metadata": {},
   "outputs": [
    {
     "data": {
      "text/plain": [
       "0.29017321167219656"
      ]
     },
     "execution_count": 26,
     "metadata": {},
     "output_type": "execute_result"
    }
   ],
   "source": [
    "# since A is connected to B, its data should have been tanh'd\n",
    "tn['A'].data.item(0)"
   ]
  },
  {
   "cell_type": "markdown",
   "metadata": {
    "raw_mimetype": "text/restructuredtext"
   },
   "source": [
    "## Combining TNs\n",
    "\n",
    "(indexmangling)=\n",
    "\n",
    "### Index Mangling\n",
    "\n",
    "While it is very convenient generally to have the tensor network geometry\n",
    "defined 'locally' just by `Tensor.inds`, **there is one main drawback**.\n",
    "\n",
    "1. Imagine we have two tensor networks, `tn1` and `tn2`,\n",
    "   both with the same outer indices - e.g. `('k0', 'k1', 'k2', 'k3', ...).\n",
    "2. When we combine these these networks we expect the new TN to automatically\n",
    "   represent the overlap of these networks - i.e. with the `'k{}'` indices\n",
    "   contracted.\n",
    "3. **However**, if `tn2` has the same internal indices as `tn1` (e.g. it\n",
    "   actually is `tn1`, or is a copy of or is derived from `tn1` etc.),\n",
    "   then these indices will now clash and appear four times in the new TN.\n",
    "\n",
    "The solution `quimb` adopts is that when you combine two or more tensor\n",
    "networks, **inner indices in the latter will be mangled** - 'inner' being defined\n",
    "as those appearing $\\geq 2$ times. This is fairly natural since renaming\n",
    "internal indices has no effect on the overall TN object represented, but it does\n",
    "mean **you should only rely on outer index names being preserved**.\n",
    "\n",
    ":::{hint}\n",
    "In general in `quimb`, you should keep track of the external indices of\n",
    "a TN and the tags describing the internal tensor structure. If and when you\n",
    "need explicit index names you can retrieve them from the tensors with, e.g.:\n",
    "\n",
    "- [`qtn.bonds`](quimb.tensor.tensor_core.bonds)\n",
    "- [`qtn.group_inds`](quimb.tensor.tensor_core.group_inds)\n",
    "- [`Tensor.filter_bonds`](quimb.tensor.tensor_core.Tensor.filter_bonds)\n",
    ":::\n",
    "\n",
    "(virtualtns)=\n",
    "\n",
    "### Virtual TNs\n",
    "\n",
    "When you create a {class}`~quimb.tensor.tensor_core.TensorNetwork`, from some\n",
    "collection of tensors and/or other tensor networks, the tensors are added via:\n",
    "\n",
    "- [`TensorNetwork.add_tensor`](quimb.tensor.tensor_core.TensorNetwork.add_tensor)\n",
    "- [`TensorNetwork.add_tensor_network`](quimb.tensor.tensor_core.TensorNetwork.add_tensor_network)\n",
    "\n",
    "By default the tensors (**but not the data - see above**), are copied, so that\n",
    "they only appear in the new TN. This behavior corresponds to the\n",
    "`virtual=False` option and overloaded operators:\n",
    "\n",
    "- `&`\n",
    "- `&=`\n",
    "\n",
    "used to combine tensors and tensor networks."
   ]
  },
  {
   "cell_type": "code",
   "execution_count": 27,
   "metadata": {},
   "outputs": [
    {
     "data": {
      "text/plain": [
       "False"
      ]
     },
     "execution_count": 27,
     "metadata": {},
     "output_type": "execute_result"
    }
   ],
   "source": [
    "tx = qtn.rand_tensor([3, 4], ['a', 'b'], tags='X')\n",
    "ty = qtn.rand_tensor([4, 5], ['b', 'c'], tags='Y')\n",
    "\n",
    "tn = tx & ty\n",
    "# == qtn.TensorNetwork([tx, ty], virtual=False)\n",
    "\n",
    "tx is tn['X']"
   ]
  },
  {
   "cell_type": "markdown",
   "metadata": {
    "raw_mimetype": "text/restructuredtext"
   },
   "source": [
    "Any changes to `tx` *won't* affect `tn`.\n",
    "\n",
    "If you want to tensor networks to 'view' existing tensors, either to\n",
    "have the tensors appear in multiple networks, or simply because you\n",
    "know a copy is not needed, you can use the `virtual=True` option.\n",
    "This corresponds to the overloaded operators:\n",
    "\n",
    "- `|`\n",
    "- `|=`\n",
    "\n",
    "used to combine tensors and tensor networks."
   ]
  },
  {
   "cell_type": "code",
   "execution_count": 28,
   "metadata": {},
   "outputs": [
    {
     "data": {
      "text/plain": [
       "True"
      ]
     },
     "execution_count": 28,
     "metadata": {},
     "output_type": "execute_result"
    }
   ],
   "source": [
    "tn = tx | ty\n",
    "# == qtn.TensorNetwork([tx, ty], virtual=True)\n",
    "\n",
    "tx is tn['X']"
   ]
  },
  {
   "cell_type": "markdown",
   "metadata": {
    "raw_mimetype": "text/restructuredtext"
   },
   "source": [
    "Now any changes to ``tx`` *will* affect ``tn``.\n",
    "The ``virtual`` kwarg can also be supplied to ``copy``."
   ]
  },
  {
   "cell_type": "code",
   "execution_count": 29,
   "metadata": {},
   "outputs": [
    {
     "data": {
      "text/plain": [
       "True"
      ]
     },
     "execution_count": 29,
     "metadata": {},
     "output_type": "execute_result"
    }
   ],
   "source": [
    "tx is tn.copy(virtual=True)['X']"
   ]
  },
  {
   "cell_type": "markdown",
   "metadata": {
    "raw_mimetype": "text/restructuredtext"
   },
   "source": [
    "(tensorowners)=\n",
    "\n",
    "## Tensor 'Owners'\n",
    "\n",
    "The piece of technology that enables tensors to tell, possibly mutiple,\n",
    "tensor networks about changes to their `inds` and `tags` is **owners**.\n",
    "You probably won't need to interact with this, but it might be useful\n",
    "to understand, what happens behind the scenes.\n",
    "\n",
    "When a tensor is added to a tensor network, the tensor itself stores\n",
    "a [weakref](https://docs.python.org/3/library/weakref.html) to the tensor\n",
    "network. If the tensor's indices or tags are then changed using\n",
    "[`Tensor.modify`](quimb.tensor.tensor_core.Tensor.modify), it can tell each tensor\n",
    "network it has been added to to update their `ind_map` and `tag_map`\n",
    "correctly.\n"
   ]
  },
  {
   "cell_type": "code",
   "execution_count": 30,
   "metadata": {},
   "outputs": [
    {
     "data": {
      "text/plain": [
       "{8785709224672: (<weakref at 0x7fd9513edd50; to 'TensorNetwork' at 0x7fd9513d2e00>,\n",
       "  0),\n",
       " 8785709224564: (<weakref at 0x7fd9513edda0; to 'TensorNetwork' at 0x7fd9513d2740>,\n",
       "  0)}"
      ]
     },
     "execution_count": 30,
     "metadata": {},
     "output_type": "execute_result"
    }
   ],
   "source": [
    "tx = qtn.rand_tensor([3, 4], ['a', 'b'], tags='X')\n",
    "ty = qtn.rand_tensor([4, 5], ['b', 'c'], tags='Y')\n",
    "tz = qtn.rand_tensor([4, 5], ['b', 'c'], tags='Z')\n",
    "\n",
    "tn_xy = tx | ty\n",
    "tn_xz = tx | tz\n",
    "\n",
    "tx.owners"
   ]
  },
  {
   "cell_type": "markdown",
   "metadata": {
    "raw_mimetype": "text/restructuredtext"
   },
   "source": [
    "A `weakref` is used so as not to prevent garbage collection of TNs, with stale\n",
    "weakrefs being simply cleared out.\n",
    "\n",
    ":::{note}\n",
    "Since {class}`~quimb.tensor.tensor_core.TensorNetwork` by default copies\n",
    "tensors before adding them, and a freshly copied tensor has no owners,\n",
    "most tensors are usually only 'owned' by a single tensor network.\n",
    ":::"
   ]
  },
  {
   "cell_type": "markdown",
   "metadata": {
    "raw_mimetype": "text/restructuredtext"
   },
   "source": [
    "## Structured (1D, 2D, ...) Tensor Networks\n",
    "\n",
    "So far we have only talked about the design of generic tensor networks\n",
    "of any geometry, and noted that the external indices of a TN, plus the\n",
    "tags of the tensors inside it, are the things that essentially define it.\n",
    "\n",
    "Specific, structured, tensor networks such as MPS or PEPS are\n",
    "implemented as subclasses of\n",
    "{class}`~quimb.tensor.tensor_1d.TensorNetwork`, with extra properties\n",
    "that describe, for example, a 'format' for how the physical indices and\n",
    "tensors are  tagged as a function of coordinate. Methods that rely on\n",
    "assuming such structure can then be invoked.\n",
    "\n",
    "As an example consider\n",
    "{class}`~quimb.tensor.tensor_1d.MatrixProductState`,\n",
    "which is a subclass of\n",
    "{class}`~quimb.tensor.tensor_1d.TensorNetwork`\n",
    "but also has methods [mixed in](https://en.wikipedia.org/wiki/Mixin)\n",
    "from the following:\n",
    "\n",
    "- {class}`~quimb.tensor.tensor_1d.TensorNetwork1D` -\n",
    "  methods that apply to any TN with a 1D tagging structure, for example,\n",
    "  [`TensorNetwork1D.site_tag`](quimb.tensor.tensor_1d.TensorNetwork1D.site_tag).\n",
    "- {class}`~quimb.tensor.tensor_1d.TensorNetwork1DFlat` -\n",
    "  methods that apply to any 1D TN with a single tensor per site, for example,\n",
    "  [`TensorNetwork1DFlat.compress`](quimb.tensor.tensor_1d.TensorNetwork1DFlat.compress)\n",
    "- {class}`~quimb.tensor.tensor_1d.TensorNetwork1DVector`.\n",
    "  methods that apply to any 1D TN with a single physical index per site, for example,\n",
    "  [`TensorNetwork1DVector.site_ind`](quimb.tensor.tensor_1d.TensorNetwork1DVector.site_ind).\n",
    "\n",
    "The MPS class then has the following extra properties that are required:"
   ]
  },
  {
   "cell_type": "code",
   "execution_count": 31,
   "metadata": {},
   "outputs": [
    {
     "data": {
      "text/plain": [
       "('_site_tag_id', '_site_ind_id', 'cyclic', '_L')"
      ]
     },
     "execution_count": 31,
     "metadata": {},
     "output_type": "execute_result"
    }
   ],
   "source": [
    "qtn.MatrixProductState._EXTRA_PROPS"
   ]
  },
  {
   "cell_type": "markdown",
   "metadata": {
    "raw_mimetype": "text/restructuredtext"
   },
   "source": [
    "- `'_site_tag_id'` being the string formatter that converts site coordinate to site tag\n",
    "- `'_site_ind_id'` being the string formatter that converts site coordinate to site ind\n",
    "- `'cyclic'` describing whether the MPS has periodic or open boundary conditions\n",
    "- `'_L'` describing the number of sites.\n",
    "\n",
    "These are usually generated automatically, from defaults or context:"
   ]
  },
  {
   "cell_type": "code",
   "execution_count": 32,
   "metadata": {},
   "outputs": [
    {
     "data": {
      "text/plain": [
       "('I{}', 'k{}', True, 100)"
      ]
     },
     "execution_count": 32,
     "metadata": {},
     "output_type": "execute_result"
    }
   ],
   "source": [
    "mps = qtn.MPS_rand_state(L=100, bond_dim=20, cyclic=True)\n",
    "mps.site_tag_id, mps.site_ind_id, mps.cyclic, mps.L"
   ]
  },
  {
   "cell_type": "code",
   "execution_count": 33,
   "metadata": {},
   "outputs": [
    {
     "data": {
      "text/plain": [
       "('I{}', 'b{}', False, 4)"
      ]
     },
     "execution_count": 33,
     "metadata": {},
     "output_type": "execute_result"
    }
   ],
   "source": [
    "mps = qtn.MatrixProductState(\n",
    "    [\n",
    "        do('random.normal', size=(7, 2), like='numpy'),\n",
    "        do('random.normal', size=(7, 7, 2), like='numpy'),\n",
    "        do('random.normal', size=(7, 7, 2), like='numpy'),\n",
    "        do('random.normal', size=(7, 2), like='numpy'),\n",
    "    ], \n",
    "    site_ind_id='b{}'\n",
    ")\n",
    "mps.site_tag_id, mps.site_ind_id, mps.cyclic, mps.L"
   ]
  },
  {
   "cell_type": "markdown",
   "metadata": {
    "raw_mimetype": "text/restructuredtext"
   },
   "source": [
    "### Converting Structured Tensor Networks\n",
    "\n",
    "Sometimes you might have created or modified *another*\n",
    "{class}`~quimb.tensor.tensor_core.TensorNetwork` such that\n",
    "you know it matches the structure of some more specific\n",
    "geometry and now want to use relevant methods, for example,\n",
    "if you have constructed a 2D tensor network and now want to use\n",
    "[`TensorNetwork2D.contract_boundary`](quimb.tensor.tensor_2d.TensorNetwork2D.contract_boundary).\n",
    "The following describes how to convert between generic and\n",
    "structured tensor networks without going via the raw constructors,\n",
    "that might be fiddly and inefficient.\n",
    "\n",
    "Imagine we have the following tensors and generic TN:"
   ]
  },
  {
   "cell_type": "code",
   "execution_count": 40,
   "metadata": {},
   "outputs": [],
   "source": [
    "t00 = qtn.rand_tensor([2, 4, 4], inds=['k0,0', '00-01', '00-10'], tags=['I0,0', 'X0', 'Y0'])\n",
    "t01 = qtn.rand_tensor([2, 4, 4], inds=['k0,1', '00-01', '01-11'], tags=['I0,1', 'X0', 'Y0'])\n",
    "t10 = qtn.rand_tensor([2, 4, 4], inds=['k1,0', '00-10', '10-11'], tags=['I1,0', 'X1', 'Y1'])\n",
    "t11 = qtn.rand_tensor([2, 4, 4], inds=['k1,1', '01-11', '10-11'], tags=['I1,1', 'X1', 'Y1'])"
   ]
  },
  {
   "cell_type": "markdown",
   "metadata": {},
   "source": [
    "These make up a little PEPS-like 2x2 TN:"
   ]
  },
  {
   "cell_type": "code",
   "execution_count": 41,
   "metadata": {},
   "outputs": [
    {
     "data": {
      "text/plain": [
       "<TensorNetwork(tensors=4, indices=8)>"
      ]
     },
     "execution_count": 41,
     "metadata": {},
     "output_type": "execute_result"
    }
   ],
   "source": [
    "tn = (t00 | t01 | t10 | t11)\n",
    "tn"
   ]
  },
  {
   "cell_type": "code",
   "execution_count": 42,
   "metadata": {},
   "outputs": [
    {
     "data": {
      "image/svg+xml": "<?xml version=\"1.0\" encoding=\"utf-8\" standalone=\"no\"?>\n<!DOCTYPE svg PUBLIC \"-//W3C//DTD SVG 1.1//EN\"\n  \"http://www.w3.org/Graphics/SVG/1.1/DTD/svg11.dtd\">\n<svg xmlns:xlink=\"http://www.w3.org/1999/xlink\" width=\"440.39952pt\" height=\"369.297326pt\" viewBox=\"0 0 440.39952 369.297326\" xmlns=\"http://www.w3.org/2000/svg\" version=\"1.1\">\n <metadata>\n  <rdf:RDF xmlns:dc=\"http://purl.org/dc/elements/1.1/\" xmlns:cc=\"http://creativecommons.org/ns#\" xmlns:rdf=\"http://www.w3.org/1999/02/22-rdf-syntax-ns#\">\n   <cc:Work>\n    <dc:type rdf:resource=\"http://purl.org/dc/dcmitype/StillImage\"/>\n    <dc:date>2022-12-05T17:20:19.893859</dc:date>\n    <dc:format>image/svg+xml</dc:format>\n    <dc:creator>\n     <cc:Agent>\n      <dc:title>Matplotlib v3.5.3, https://matplotlib.org/</dc:title>\n     </cc:Agent>\n    </dc:creator>\n   </cc:Work>\n  </rdf:RDF>\n </metadata>\n <defs>\n  <style type=\"text/css\">*{stroke-linejoin: round; stroke-linecap: butt}</style>\n </defs>\n <g id=\"figure_1\">\n  <g id=\"patch_1\">\n   <path d=\"M 0 369.297326 \nL 440.39952 369.297326 \nL 440.39952 0 \nL 0 0 \nL 0 369.297326 \nz\n\" style=\"fill: none; opacity: 0\"/>\n  </g>\n  <g id=\"axes_1\">\n   <g id=\"LineCollection_1\">\n    <path d=\"M 124.184345 245.93929 \nL 42.891186 328.342978 \n\" clip-path=\"url(#p55413e4cb4)\" style=\"fill: none; stroke: #737880; stroke-opacity: 0.5\"/>\n    <path d=\"M 124.184345 245.93929 \nL 245.939826 245.11351 \n\" clip-path=\"url(#p55413e4cb4)\" style=\"fill: none; stroke: #737880; stroke-opacity: 0.5; stroke-width: 2\"/>\n    <path d=\"M 124.184345 245.93929 \nL 123.358131 124.183811 \n\" clip-path=\"url(#p55413e4cb4)\" style=\"fill: none; stroke: #737880; stroke-opacity: 0.5; stroke-width: 2\"/>\n    <path d=\"M 245.939826 245.11351 \nL 328.34361 326.406763 \n\" clip-path=\"url(#p55413e4cb4)\" style=\"fill: none; stroke: #737880; stroke-opacity: 0.5\"/>\n    <path d=\"M 245.939826 245.11351 \nL 245.113612 123.358033 \n\" clip-path=\"url(#p55413e4cb4)\" style=\"fill: none; stroke: #737880; stroke-opacity: 0.5; stroke-width: 2\"/>\n    <path d=\"M 123.358131 124.183811 \nL 40.954347 42.890558 \n\" clip-path=\"url(#p55413e4cb4)\" style=\"fill: none; stroke: #737880; stroke-opacity: 0.5\"/>\n    <path d=\"M 123.358131 124.183811 \nL 245.113612 123.358033 \n\" clip-path=\"url(#p55413e4cb4)\" style=\"fill: none; stroke: #737880; stroke-opacity: 0.5; stroke-width: 2\"/>\n    <path d=\"M 245.113612 123.358033 \nL 326.406768 40.954347 \n\" clip-path=\"url(#p55413e4cb4)\" style=\"fill: none; stroke: #737880; stroke-opacity: 0.5\"/>\n   </g>\n   <g id=\"PathCollection_1\">\n    <path d=\"M 124.184345 255.672341 \nC 126.76558 255.672341 129.241442 254.646805 131.066651 252.821596 \nC 132.89186 250.996387 133.917396 248.520525 133.917396 245.93929 \nC 133.917396 243.358054 132.89186 240.882192 131.066651 239.056983 \nC 129.241442 237.231774 126.76558 236.206239 124.184345 236.206239 \nC 121.60311 236.206239 119.127247 237.231774 117.302038 239.056983 \nC 115.476829 240.882192 114.451294 243.358054 114.451294 245.93929 \nC 114.451294 248.520525 115.476829 250.996387 117.302038 252.821596 \nC 119.127247 254.646805 121.60311 255.672341 124.184345 255.672341 \nz\n\" clip-path=\"url(#p55413e4cb4)\" style=\"fill: #56b4e9; stroke: #4590ba; stroke-width: 3\"/>\n    <path d=\"M 245.939826 254.846561 \nC 248.521062 254.846561 250.996924 253.821026 252.822133 251.995817 \nC 254.647342 250.170608 255.672877 247.694745 255.672877 245.11351 \nC 255.672877 242.532275 254.647342 240.056413 252.822133 238.231204 \nC 250.996924 236.405995 248.521062 235.380459 245.939826 235.380459 \nC 243.358591 235.380459 240.882729 236.405995 239.05752 238.231204 \nC 237.232311 240.056413 236.206775 242.532275 236.206775 245.11351 \nC 236.206775 247.694745 237.232311 250.170608 239.05752 251.995817 \nC 240.882729 253.821026 243.358591 254.846561 245.939826 254.846561 \nz\n\" clip-path=\"url(#p55413e4cb4)\" style=\"fill: #e69f00; stroke: #b87f00; stroke-width: 3\"/>\n    <path d=\"M 123.358131 133.916862 \nC 125.939367 133.916862 128.415229 132.891327 130.240438 131.066118 \nC 132.065647 129.240909 133.091183 126.765047 133.091183 124.183811 \nC 133.091183 121.602576 132.065647 119.126714 130.240438 117.301505 \nC 128.415229 115.476296 125.939367 114.45076 123.358131 114.45076 \nC 120.776896 114.45076 118.301034 115.476296 116.475825 117.301505 \nC 114.650616 119.126714 113.62508 121.602576 113.62508 124.183811 \nC 113.62508 126.765047 114.650616 129.240909 116.475825 131.066118 \nC 118.301034 132.891327 120.776896 133.916862 123.358131 133.916862 \nz\n\" clip-path=\"url(#p55413e4cb4)\" style=\"fill: #009e73; stroke: #007e5c; stroke-width: 3\"/>\n    <path d=\"M 245.113612 133.091084 \nC 247.694847 133.091084 250.170709 132.065548 251.995918 130.240339 \nC 253.821127 128.41513 254.846663 125.939268 254.846663 123.358033 \nC 254.846663 120.776797 253.821127 118.300935 251.995918 116.475726 \nC 250.170709 114.650517 247.694847 113.624982 245.113612 113.624982 \nC 242.532376 113.624982 240.056514 114.650517 238.231305 116.475726 \nC 236.406096 118.300935 235.38056 120.776797 235.38056 123.358033 \nC 235.38056 125.939268 236.406096 128.41513 238.231305 130.240339 \nC 240.056514 132.065548 242.532376 133.091084 245.113612 133.091084 \nz\n\" clip-path=\"url(#p55413e4cb4)\" style=\"fill: #d55e00; stroke: #aa4b00; stroke-width: 3\"/>\n   </g>\n   <g id=\"PathCollection_2\">\n    <path d=\"M 42.891186 328.342978 \nC 42.891186 328.342978 42.891186 328.342978 42.891186 328.342978 \nC 42.891186 328.342978 42.891186 328.342978 42.891186 328.342978 \nC 42.891186 328.342978 42.891186 328.342978 42.891186 328.342978 \nC 42.891186 328.342978 42.891186 328.342978 42.891186 328.342978 \nC 42.891186 328.342978 42.891186 328.342978 42.891186 328.342978 \nC 42.891186 328.342978 42.891186 328.342978 42.891186 328.342978 \nC 42.891186 328.342978 42.891186 328.342978 42.891186 328.342978 \nC 42.891186 328.342978 42.891186 328.342978 42.891186 328.342978 \nz\n\" clip-path=\"url(#p55413e4cb4)\" style=\"fill: #ffffff\"/>\n    <path d=\"M 328.34361 326.406763 \nC 328.34361 326.406763 328.34361 326.406763 328.34361 326.406763 \nC 328.34361 326.406763 328.34361 326.406763 328.34361 326.406763 \nC 328.34361 326.406763 328.34361 326.406763 328.34361 326.406763 \nC 328.34361 326.406763 328.34361 326.406763 328.34361 326.406763 \nC 328.34361 326.406763 328.34361 326.406763 328.34361 326.406763 \nC 328.34361 326.406763 328.34361 326.406763 328.34361 326.406763 \nC 328.34361 326.406763 328.34361 326.406763 328.34361 326.406763 \nC 328.34361 326.406763 328.34361 326.406763 328.34361 326.406763 \nz\n\" clip-path=\"url(#p55413e4cb4)\" style=\"fill: #ffffff\"/>\n    <path d=\"M 40.954347 42.890558 \nC 40.954347 42.890558 40.954347 42.890558 40.954347 42.890558 \nC 40.954347 42.890558 40.954347 42.890558 40.954347 42.890558 \nC 40.954347 42.890558 40.954347 42.890558 40.954347 42.890558 \nC 40.954347 42.890558 40.954347 42.890558 40.954347 42.890558 \nC 40.954347 42.890558 40.954347 42.890558 40.954347 42.890558 \nC 40.954347 42.890558 40.954347 42.890558 40.954347 42.890558 \nC 40.954347 42.890558 40.954347 42.890558 40.954347 42.890558 \nC 40.954347 42.890558 40.954347 42.890558 40.954347 42.890558 \nz\n\" clip-path=\"url(#p55413e4cb4)\" style=\"fill: #ffffff\"/>\n    <path d=\"M 326.406768 40.954347 \nC 326.406768 40.954347 326.406768 40.954347 326.406768 40.954347 \nC 326.406768 40.954347 326.406768 40.954347 326.406768 40.954347 \nC 326.406768 40.954347 326.406768 40.954347 326.406768 40.954347 \nC 326.406768 40.954347 326.406768 40.954347 326.406768 40.954347 \nC 326.406768 40.954347 326.406768 40.954347 326.406768 40.954347 \nC 326.406768 40.954347 326.406768 40.954347 326.406768 40.954347 \nC 326.406768 40.954347 326.406768 40.954347 326.406768 40.954347 \nC 326.406768 40.954347 326.406768 40.954347 326.406768 40.954347 \nz\n\" clip-path=\"url(#p55413e4cb4)\" style=\"fill: #ffffff\"/>\n   </g>\n   <g id=\"text_1\">\n    <g clip-path=\"url(#p55413e4cb4)\">\n     <!-- I0,0, X0, Y0 -->\n     <g style=\"fill: #404040\" transform=\"translate(88.06247 248.725227)scale(0.1 -0.1)\">\n      <defs>\n       <path id=\"DejaVuSansMono-49\" d=\"M 628 4666 \nL 3219 4666 \nL 3219 4134 \nL 2241 4134 \nL 2241 531 \nL 3219 531 \nL 3219 0 \nL 628 0 \nL 628 531 \nL 1606 531 \nL 1606 4134 \nL 628 4134 \nL 628 4666 \nz\n\" transform=\"scale(0.015625)\"/>\n       <path id=\"DejaVuSansMono-30\" d=\"M 1509 2344 \nQ 1509 2516 1629 2641 \nQ 1750 2766 1919 2766 \nQ 2094 2766 2219 2641 \nQ 2344 2516 2344 2344 \nQ 2344 2169 2220 2047 \nQ 2097 1925 1919 1925 \nQ 1744 1925 1626 2044 \nQ 1509 2163 1509 2344 \nz\nM 1925 4250 \nQ 1484 4250 1267 3775 \nQ 1050 3300 1050 2328 \nQ 1050 1359 1267 884 \nQ 1484 409 1925 409 \nQ 2369 409 2586 884 \nQ 2803 1359 2803 2328 \nQ 2803 3300 2586 3775 \nQ 2369 4250 1925 4250 \nz\nM 1925 4750 \nQ 2672 4750 3055 4137 \nQ 3438 3525 3438 2328 \nQ 3438 1134 3055 521 \nQ 2672 -91 1925 -91 \nQ 1178 -91 797 521 \nQ 416 1134 416 2328 \nQ 416 3525 797 4137 \nQ 1178 4750 1925 4750 \nz\n\" transform=\"scale(0.015625)\"/>\n       <path id=\"DejaVuSansMono-2c\" d=\"M 1569 947 \nL 2356 947 \nL 2356 300 \nL 1741 -897 \nL 1259 -897 \nL 1569 300 \nL 1569 947 \nz\n\" transform=\"scale(0.015625)\"/>\n       <path id=\"DejaVuSansMono-20\" transform=\"scale(0.015625)\"/>\n       <path id=\"DejaVuSansMono-58\" d=\"M 269 4666 \nL 947 4666 \nL 1972 2906 \nL 3016 4666 \nL 3694 4666 \nL 2297 2472 \nL 3794 0 \nL 3116 0 \nL 1972 2009 \nL 738 0 \nL 56 0 \nL 1619 2472 \nL 269 4666 \nz\n\" transform=\"scale(0.015625)\"/>\n       <path id=\"DejaVuSansMono-59\" d=\"M 116 4666 \nL 788 4666 \nL 1925 2606 \nL 3059 4666 \nL 3738 4666 \nL 2241 2094 \nL 2241 0 \nL 1606 0 \nL 1606 2094 \nL 116 4666 \nz\n\" transform=\"scale(0.015625)\"/>\n      </defs>\n      <use xlink:href=\"#DejaVuSansMono-49\"/>\n      <use xlink:href=\"#DejaVuSansMono-30\" x=\"60.205078\"/>\n      <use xlink:href=\"#DejaVuSansMono-2c\" x=\"120.410156\"/>\n      <use xlink:href=\"#DejaVuSansMono-30\" x=\"180.615234\"/>\n      <use xlink:href=\"#DejaVuSansMono-2c\" x=\"240.820312\"/>\n      <use xlink:href=\"#DejaVuSansMono-20\" x=\"301.025391\"/>\n      <use xlink:href=\"#DejaVuSansMono-58\" x=\"361.230469\"/>\n      <use xlink:href=\"#DejaVuSansMono-30\" x=\"421.435547\"/>\n      <use xlink:href=\"#DejaVuSansMono-2c\" x=\"481.640625\"/>\n      <use xlink:href=\"#DejaVuSansMono-20\" x=\"541.845703\"/>\n      <use xlink:href=\"#DejaVuSansMono-59\" x=\"602.050781\"/>\n      <use xlink:href=\"#DejaVuSansMono-30\" x=\"662.255859\"/>\n     </g>\n    </g>\n   </g>\n   <g id=\"text_2\">\n    <g clip-path=\"url(#p55413e4cb4)\">\n     <!-- I0,1, X0, Y0 -->\n     <g style=\"fill: #404040\" transform=\"translate(209.817951 247.899448)scale(0.1 -0.1)\">\n      <defs>\n       <path id=\"DejaVuSansMono-31\" d=\"M 844 531 \nL 1825 531 \nL 1825 4097 \nL 769 3859 \nL 769 4434 \nL 1819 4666 \nL 2450 4666 \nL 2450 531 \nL 3419 531 \nL 3419 0 \nL 844 0 \nL 844 531 \nz\n\" transform=\"scale(0.015625)\"/>\n      </defs>\n      <use xlink:href=\"#DejaVuSansMono-49\"/>\n      <use xlink:href=\"#DejaVuSansMono-30\" x=\"60.205078\"/>\n      <use xlink:href=\"#DejaVuSansMono-2c\" x=\"120.410156\"/>\n      <use xlink:href=\"#DejaVuSansMono-31\" x=\"180.615234\"/>\n      <use xlink:href=\"#DejaVuSansMono-2c\" x=\"240.820312\"/>\n      <use xlink:href=\"#DejaVuSansMono-20\" x=\"301.025391\"/>\n      <use xlink:href=\"#DejaVuSansMono-58\" x=\"361.230469\"/>\n      <use xlink:href=\"#DejaVuSansMono-30\" x=\"421.435547\"/>\n      <use xlink:href=\"#DejaVuSansMono-2c\" x=\"481.640625\"/>\n      <use xlink:href=\"#DejaVuSansMono-20\" x=\"541.845703\"/>\n      <use xlink:href=\"#DejaVuSansMono-59\" x=\"602.050781\"/>\n      <use xlink:href=\"#DejaVuSansMono-30\" x=\"662.255859\"/>\n     </g>\n    </g>\n   </g>\n   <g id=\"text_3\">\n    <g clip-path=\"url(#p55413e4cb4)\">\n     <!-- I1,0, X1, Y1 -->\n     <g style=\"fill: #404040\" transform=\"translate(87.236256 126.969749)scale(0.1 -0.1)\">\n      <use xlink:href=\"#DejaVuSansMono-49\"/>\n      <use xlink:href=\"#DejaVuSansMono-31\" x=\"60.205078\"/>\n      <use xlink:href=\"#DejaVuSansMono-2c\" x=\"120.410156\"/>\n      <use xlink:href=\"#DejaVuSansMono-30\" x=\"180.615234\"/>\n      <use xlink:href=\"#DejaVuSansMono-2c\" x=\"240.820312\"/>\n      <use xlink:href=\"#DejaVuSansMono-20\" x=\"301.025391\"/>\n      <use xlink:href=\"#DejaVuSansMono-58\" x=\"361.230469\"/>\n      <use xlink:href=\"#DejaVuSansMono-31\" x=\"421.435547\"/>\n      <use xlink:href=\"#DejaVuSansMono-2c\" x=\"481.640625\"/>\n      <use xlink:href=\"#DejaVuSansMono-20\" x=\"541.845703\"/>\n      <use xlink:href=\"#DejaVuSansMono-59\" x=\"602.050781\"/>\n      <use xlink:href=\"#DejaVuSansMono-31\" x=\"662.255859\"/>\n     </g>\n    </g>\n   </g>\n   <g id=\"text_4\">\n    <g clip-path=\"url(#p55413e4cb4)\">\n     <!-- I1,1, X1, Y1 -->\n     <g style=\"fill: #404040\" transform=\"translate(208.991737 126.14397)scale(0.1 -0.1)\">\n      <use xlink:href=\"#DejaVuSansMono-49\"/>\n      <use xlink:href=\"#DejaVuSansMono-31\" x=\"60.205078\"/>\n      <use xlink:href=\"#DejaVuSansMono-2c\" x=\"120.410156\"/>\n      <use xlink:href=\"#DejaVuSansMono-31\" x=\"180.615234\"/>\n      <use xlink:href=\"#DejaVuSansMono-2c\" x=\"240.820312\"/>\n      <use xlink:href=\"#DejaVuSansMono-20\" x=\"301.025391\"/>\n      <use xlink:href=\"#DejaVuSansMono-58\" x=\"361.230469\"/>\n      <use xlink:href=\"#DejaVuSansMono-31\" x=\"421.435547\"/>\n      <use xlink:href=\"#DejaVuSansMono-2c\" x=\"481.640625\"/>\n      <use xlink:href=\"#DejaVuSansMono-20\" x=\"541.845703\"/>\n      <use xlink:href=\"#DejaVuSansMono-59\" x=\"602.050781\"/>\n      <use xlink:href=\"#DejaVuSansMono-31\" x=\"662.255859\"/>\n     </g>\n    </g>\n   </g>\n   <g id=\"text_5\">\n    <g clip-path=\"url(#p55413e4cb4)\">\n     <!-- k0,1 -->\n     <g style=\"fill: #404040\" transform=\"translate(316.302985 329.192701)scale(0.1 -0.1)\">\n      <defs>\n       <path id=\"DejaVuSansMono-6b\" d=\"M 738 4863 \nL 1331 4863 \nL 1331 2047 \nL 2841 3500 \nL 3541 3500 \nL 2163 2181 \nL 3756 0 \nL 3053 0 \nL 1759 1806 \nL 1331 1403 \nL 1331 0 \nL 738 0 \nL 738 4863 \nz\n\" transform=\"scale(0.015625)\"/>\n      </defs>\n      <use xlink:href=\"#DejaVuSansMono-6b\"/>\n      <use xlink:href=\"#DejaVuSansMono-30\" x=\"60.205078\"/>\n      <use xlink:href=\"#DejaVuSansMono-2c\" x=\"120.410156\"/>\n      <use xlink:href=\"#DejaVuSansMono-31\" x=\"180.615234\"/>\n     </g>\n    </g>\n   </g>\n   <g id=\"text_6\">\n    <g clip-path=\"url(#p55413e4cb4)\">\n     <!-- k0,0 -->\n     <g style=\"fill: #404040\" transform=\"translate(30.850561 331.128916)scale(0.1 -0.1)\">\n      <use xlink:href=\"#DejaVuSansMono-6b\"/>\n      <use xlink:href=\"#DejaVuSansMono-30\" x=\"60.205078\"/>\n      <use xlink:href=\"#DejaVuSansMono-2c\" x=\"120.410156\"/>\n      <use xlink:href=\"#DejaVuSansMono-30\" x=\"180.615234\"/>\n     </g>\n    </g>\n   </g>\n   <g id=\"text_7\">\n    <g clip-path=\"url(#p55413e4cb4)\">\n     <!-- k1,1 -->\n     <g style=\"fill: #404040\" transform=\"translate(314.366143 43.740285)scale(0.1 -0.1)\">\n      <use xlink:href=\"#DejaVuSansMono-6b\"/>\n      <use xlink:href=\"#DejaVuSansMono-31\" x=\"60.205078\"/>\n      <use xlink:href=\"#DejaVuSansMono-2c\" x=\"120.410156\"/>\n      <use xlink:href=\"#DejaVuSansMono-31\" x=\"180.615234\"/>\n     </g>\n    </g>\n   </g>\n   <g id=\"text_8\">\n    <g clip-path=\"url(#p55413e4cb4)\">\n     <!-- k1,0 -->\n     <g style=\"fill: #404040\" transform=\"translate(28.913722 45.676495)scale(0.1 -0.1)\">\n      <use xlink:href=\"#DejaVuSansMono-6b\"/>\n      <use xlink:href=\"#DejaVuSansMono-31\" x=\"60.205078\"/>\n      <use xlink:href=\"#DejaVuSansMono-2c\" x=\"120.410156\"/>\n      <use xlink:href=\"#DejaVuSansMono-30\" x=\"180.615234\"/>\n     </g>\n    </g>\n   </g>\n   <g id=\"legend_1\">\n    <g id=\"patch_2\">\n     <path d=\"M 369.097958 215.611163 \nL 431.19952 215.611163 \nQ 433.19952 215.611163 433.19952 213.611163 \nL 433.19952 155.686163 \nQ 433.19952 153.686163 431.19952 153.686163 \nL 369.097958 153.686163 \nQ 367.097958 153.686163 367.097958 155.686163 \nL 367.097958 213.611163 \nQ 367.097958 215.611163 369.097958 215.611163 \nL 369.097958 215.611163 \nz\n\" style=\"fill: none; stroke: #999999; stroke-opacity: 0.2; stroke-linejoin: miter\"/>\n    </g>\n    <g id=\"line2d_1\">\n     <defs>\n      <path id=\"ma03516163d\" d=\"M 0 5 \nC 1.326016 5 2.597899 4.473168 3.535534 3.535534 \nC 4.473168 2.597899 5 1.326016 5 0 \nC 5 -1.326016 4.473168 -2.597899 3.535534 -3.535534 \nC 2.597899 -4.473168 1.326016 -5 0 -5 \nC -1.326016 -5 -2.597899 -4.473168 -3.535534 -3.535534 \nC -4.473168 -2.597899 -5 -1.326016 -5 0 \nC -5 1.326016 -4.473168 2.597899 -3.535534 3.535534 \nC -2.597899 4.473168 -1.326016 5 0 5 \nz\n\" style=\"stroke: #4590ba; stroke-width: 3\"/>\n     </defs>\n     <g>\n      <use xlink:href=\"#ma03516163d\" x=\"381.097958\" y=\"161.837725\" style=\"fill: #56b4e9; stroke: #4590ba; stroke-width: 3\"/>\n     </g>\n    </g>\n    <g id=\"text_9\">\n     <!--  I0,0 -->\n     <g style=\"fill: #404040\" transform=\"translate(399.097958 165.337725)scale(0.1 -0.1)\">\n      <use xlink:href=\"#DejaVuSansMono-20\"/>\n      <use xlink:href=\"#DejaVuSansMono-49\" x=\"60.205078\"/>\n      <use xlink:href=\"#DejaVuSansMono-30\" x=\"120.410156\"/>\n      <use xlink:href=\"#DejaVuSansMono-2c\" x=\"180.615234\"/>\n      <use xlink:href=\"#DejaVuSansMono-30\" x=\"240.820312\"/>\n     </g>\n    </g>\n    <g id=\"line2d_2\">\n     <defs>\n      <path id=\"me244bd9ec4\" d=\"M 0 5 \nC 1.326016 5 2.597899 4.473168 3.535534 3.535534 \nC 4.473168 2.597899 5 1.326016 5 0 \nC 5 -1.326016 4.473168 -2.597899 3.535534 -3.535534 \nC 2.597899 -4.473168 1.326016 -5 0 -5 \nC -1.326016 -5 -2.597899 -4.473168 -3.535534 -3.535534 \nC -4.473168 -2.597899 -5 -1.326016 -5 0 \nC -5 1.326016 -4.473168 2.597899 -3.535534 3.535534 \nC -2.597899 4.473168 -1.326016 5 0 5 \nz\n\" style=\"stroke: #b87f00; stroke-width: 3\"/>\n     </defs>\n     <g>\n      <use xlink:href=\"#me244bd9ec4\" x=\"381.097958\" y=\"176.568975\" style=\"fill: #e69f00; stroke: #b87f00; stroke-width: 3\"/>\n     </g>\n    </g>\n    <g id=\"text_10\">\n     <!--  I0,1 -->\n     <g style=\"fill: #404040\" transform=\"translate(399.097958 180.068975)scale(0.1 -0.1)\">\n      <use xlink:href=\"#DejaVuSansMono-20\"/>\n      <use xlink:href=\"#DejaVuSansMono-49\" x=\"60.205078\"/>\n      <use xlink:href=\"#DejaVuSansMono-30\" x=\"120.410156\"/>\n      <use xlink:href=\"#DejaVuSansMono-2c\" x=\"180.615234\"/>\n      <use xlink:href=\"#DejaVuSansMono-31\" x=\"240.820312\"/>\n     </g>\n    </g>\n    <g id=\"line2d_3\">\n     <defs>\n      <path id=\"m4bbd8173ce\" d=\"M 0 5 \nC 1.326016 5 2.597899 4.473168 3.535534 3.535534 \nC 4.473168 2.597899 5 1.326016 5 0 \nC 5 -1.326016 4.473168 -2.597899 3.535534 -3.535534 \nC 2.597899 -4.473168 1.326016 -5 0 -5 \nC -1.326016 -5 -2.597899 -4.473168 -3.535534 -3.535534 \nC -4.473168 -2.597899 -5 -1.326016 -5 0 \nC -5 1.326016 -4.473168 2.597899 -3.535534 3.535534 \nC -2.597899 4.473168 -1.326016 5 0 5 \nz\n\" style=\"stroke: #007e5c; stroke-width: 3\"/>\n     </defs>\n     <g>\n      <use xlink:href=\"#m4bbd8173ce\" x=\"381.097958\" y=\"191.300225\" style=\"fill: #009e73; stroke: #007e5c; stroke-width: 3\"/>\n     </g>\n    </g>\n    <g id=\"text_11\">\n     <!--  I1,0 -->\n     <g style=\"fill: #404040\" transform=\"translate(399.097958 194.800225)scale(0.1 -0.1)\">\n      <use xlink:href=\"#DejaVuSansMono-20\"/>\n      <use xlink:href=\"#DejaVuSansMono-49\" x=\"60.205078\"/>\n      <use xlink:href=\"#DejaVuSansMono-31\" x=\"120.410156\"/>\n      <use xlink:href=\"#DejaVuSansMono-2c\" x=\"180.615234\"/>\n      <use xlink:href=\"#DejaVuSansMono-30\" x=\"240.820312\"/>\n     </g>\n    </g>\n    <g id=\"line2d_4\">\n     <defs>\n      <path id=\"md6b63b2e99\" d=\"M 0 5 \nC 1.326016 5 2.597899 4.473168 3.535534 3.535534 \nC 4.473168 2.597899 5 1.326016 5 0 \nC 5 -1.326016 4.473168 -2.597899 3.535534 -3.535534 \nC 2.597899 -4.473168 1.326016 -5 0 -5 \nC -1.326016 -5 -2.597899 -4.473168 -3.535534 -3.535534 \nC -4.473168 -2.597899 -5 -1.326016 -5 0 \nC -5 1.326016 -4.473168 2.597899 -3.535534 3.535534 \nC -2.597899 4.473168 -1.326016 5 0 5 \nz\n\" style=\"stroke: #aa4b00; stroke-width: 3\"/>\n     </defs>\n     <g>\n      <use xlink:href=\"#md6b63b2e99\" x=\"381.097958\" y=\"206.031475\" style=\"fill: #d55e00; stroke: #aa4b00; stroke-width: 3\"/>\n     </g>\n    </g>\n    <g id=\"text_12\">\n     <!--  I1,1 -->\n     <g style=\"fill: #404040\" transform=\"translate(399.097958 209.531475)scale(0.1 -0.1)\">\n      <use xlink:href=\"#DejaVuSansMono-20\"/>\n      <use xlink:href=\"#DejaVuSansMono-49\" x=\"60.205078\"/>\n      <use xlink:href=\"#DejaVuSansMono-31\" x=\"120.410156\"/>\n      <use xlink:href=\"#DejaVuSansMono-2c\" x=\"180.615234\"/>\n      <use xlink:href=\"#DejaVuSansMono-31\" x=\"240.820312\"/>\n     </g>\n    </g>\n   </g>\n  </g>\n </g>\n <defs>\n  <clipPath id=\"p55413e4cb4\">\n   <rect x=\"7.2\" y=\"7.2\" width=\"354.897958\" height=\"354.897326\"/>\n  </clipPath>\n </defs>\n</svg>\n",
      "text/plain": [
       "<Figure size 600x600 with 1 Axes>"
      ]
     },
     "metadata": {},
     "output_type": "display_data"
    }
   ],
   "source": [
    "tn.draw(color=['I0,0', 'I0,1', 'I1,0', 'I1,1'])"
   ]
  },
  {
   "cell_type": "markdown",
   "metadata": {
    "raw_mimetype": "text/restructuredtext"
   },
   "source": [
    "However it doesn't have any of the special {class}`~quimb.tensor.tensor_2d.PEPS`\n",
    "methods yet. Rather than retrieving raw arrays and calling `PEPS(arrays)`,\n",
    "we can use the following functions to directly instantiate a PEPS:\n",
    "\n",
    ":::{note}\n",
    "Note the following only work because **we have already correctly tagged and\n",
    "labelled the tensors**, thus 'promising' that the PEPS structure exists.\n",
    ":::\n",
    "\n",
    "### `from_TN`"
   ]
  },
  {
   "cell_type": "code",
   "execution_count": 43,
   "metadata": {},
   "outputs": [
    {
     "data": {
      "text/plain": [
       "('_site_tag_id', '_x_tag_id', '_y_tag_id', '_Lx', '_Ly', '_site_ind_id')"
      ]
     },
     "execution_count": 43,
     "metadata": {},
     "output_type": "execute_result"
    }
   ],
   "source": [
    "# we need to tell the constructor what values we are using for the following:\n",
    "qtn.PEPS._EXTRA_PROPS"
   ]
  },
  {
   "cell_type": "code",
   "execution_count": 44,
   "metadata": {},
   "outputs": [
    {
     "data": {
      "text/plain": [
       "<PEPS(tensors=4, indices=8, Lx=2, Ly=2, max_bond=4)>"
      ]
     },
     "execution_count": 44,
     "metadata": {},
     "output_type": "execute_result"
    }
   ],
   "source": [
    "peps = qtn.PEPS.from_TN(\n",
    "    tn, \n",
    "    Lx=2, \n",
    "    Ly=2,\n",
    "    site_tag_id='I{},{}', \n",
    "    site_ind_id='k{},{}',\n",
    "    x_tag_id='X{}',\n",
    "    y_tag_id='Y{}',\n",
    ")\n",
    "peps"
   ]
  },
  {
   "cell_type": "code",
   "execution_count": 45,
   "metadata": {},
   "outputs": [
    {
     "name": "stdout",
     "output_type": "stream",
     "text": [
      "    4   \n",
      " ●━━━━●\n",
      "╱┃4  ╱┃4  \n",
      " ┃  4 ┃ \n",
      " ●━━━━●\n",
      "╱    ╱    \n"
     ]
    }
   ],
   "source": [
    "peps.show()"
   ]
  },
  {
   "cell_type": "markdown",
   "metadata": {
    "raw_mimetype": "text/restructuredtext"
   },
   "source": [
    "### `TensorNetwork.view_as`\n",
    "\n",
    "We can also use the method version,\n",
    "[`TensorNetwork.view_as`](quimb.tensor.tensor_core.TensorNetwork.view_as),\n",
    "which enables an inplace option:"
   ]
  },
  {
   "cell_type": "code",
   "execution_count": 48,
   "metadata": {},
   "outputs": [
    {
     "data": {
      "text/plain": [
       "<TensorNetwork2DFlat(tensors=4, indices=8, Lx=2, Ly=2, max_bond=4)>"
      ]
     },
     "execution_count": 48,
     "metadata": {},
     "output_type": "execute_result"
    }
   ],
   "source": [
    "tn.view_as_(\n",
    "    qtn.tensor_2d.TensorNetwork2DFlat,\n",
    "    Lx=2, \n",
    "    Ly=2,\n",
    "    site_tag_id='I{},{}',\n",
    "    x_tag_id='X{}',\n",
    "    y_tag_id='Y{}',\n",
    ")"
   ]
  },
  {
   "cell_type": "code",
   "execution_count": 49,
   "metadata": {},
   "outputs": [
    {
     "name": "stdout",
     "output_type": "stream",
     "text": [
      "    4   \n",
      " ●━━━━●\n",
      " ┃4   ┃4  \n",
      " ┃  4 ┃ \n",
      " ●━━━━●\n",
      "          \n"
     ]
    }
   ],
   "source": [
    "# `tn` is now a 'FLat 2D TN'\n",
    "tn.show()"
   ]
  },
  {
   "cell_type": "markdown",
   "metadata": {
    "raw_mimetype": "text/restructuredtext"
   },
   "source": [
    "### `TensorNetwork.view_like`\n",
    "\n",
    "Finally, and often most conveniently, if you have an\n",
    "existing structured TN with extra attributes you want to match,\n",
    "you can call\n",
    "[`TensorNetwork.view_like`]quimb.tensor.tensor_core.TensorNetwork.view_like), which\n",
    "defaults to picking up all the necessary attributes from whatever\n",
    "you supply to the `like=` kwarg:"
   ]
  },
  {
   "cell_type": "code",
   "execution_count": 50,
   "metadata": {},
   "outputs": [
    {
     "data": {
      "text/plain": [
       "<PEPS(tensors=4, indices=8, Lx=2, Ly=2, max_bond=4)>"
      ]
     },
     "execution_count": 50,
     "metadata": {},
     "output_type": "execute_result"
    }
   ],
   "source": [
    "other_peps = qtn.PEPS.rand(Lx=2, Ly=2, bond_dim=5)\n",
    "\n",
    "tn.view_like_(other_peps)"
   ]
  },
  {
   "cell_type": "code",
   "execution_count": 51,
   "metadata": {},
   "outputs": [
    {
     "name": "stdout",
     "output_type": "stream",
     "text": [
      "    9   \n",
      " ●━━━━●\n",
      "╱┃9  ╱┃9  \n",
      " ┃  9 ┃ \n",
      " ●━━━━●\n",
      "╱    ╱    \n"
     ]
    }
   ],
   "source": [
    "# `tn` is now a PEPS with its special methods\n",
    "tn.expand_bond_dimension(9).show()"
   ]
  },
  {
   "cell_type": "markdown",
   "metadata": {
    "raw_mimetype": "text/restructuredtext"
   },
   "source": [
    "This is useful if you perform modifications to a specific type of TN,\n",
    "such that it loses its structured identity, but then you want to recast\n",
    "it as original type, knowing that all the tags and indices are still correct.\n",
    "\n",
    "### Compatible Subclasses\n",
    "\n",
    "One final feature to note regarding specific tensor network\n",
    "subclasses is that when you combine certain TNs with the\n",
    "`&` or `|` operators, if they are both 'compatible' versions\n",
    "of an inherited structured TN, they keep that structure:"
   ]
  },
  {
   "cell_type": "code",
   "execution_count": 52,
   "metadata": {},
   "outputs": [
    {
     "data": {
      "text/plain": [
       "<TensorNetwork1D(tensors=20, indices=28, L=10, max_bond=7)>"
      ]
     },
     "execution_count": 52,
     "metadata": {},
     "output_type": "execute_result"
    }
   ],
   "source": [
    "# so if we combine two MPS, which are both TensorNetwork1D\n",
    "mps_a = qtn.MPS_rand_state(10, 7)\n",
    "mps_b = qtn.MPS_rand_state(10, 7)\n",
    "\n",
    "# we get a TensorNetwork1D\n",
    "mps_a | mps_b"
   ]
  },
  {
   "cell_type": "code",
   "execution_count": 53,
   "metadata": {},
   "outputs": [
    {
     "data": {
      "text/plain": [
       "<TensorNetwork2D(tensors=200, indices=460, Lx=10, Ly=10, max_bond=7)>"
      ]
     },
     "execution_count": 53,
     "metadata": {},
     "output_type": "execute_result"
    }
   ],
   "source": [
    "# and if we combine two PEPS, which are both TensorNetwork2D\n",
    "peps_a = qtn.PEPS.rand(10, 10, 7)\n",
    "peps_b = qtn.PEPS.rand(10, 10, 7)\n",
    "\n",
    "# we get a TensorNetwork2D\n",
    "peps_a | peps_b"
   ]
  },
  {
   "cell_type": "markdown",
   "metadata": {
    "raw_mimetype": "text/restructuredtext"
   },
   "source": [
    "One key thing this allows is for structured contraction schemes\n",
    "to remain avaiable once norm- or expectation- TNs have been formed\n",
    "for example, without calling\n",
    "{meth}`~quimb.tensor.tensor_core.TensorNetwork.view_like`."
   ]
  },
  {
   "cell_type": "markdown",
   "metadata": {
    "raw_mimetype": "text/restructuredtext"
   },
   "source": [
    "## Standard vs. Hyper Indices & Tensor Networks\n",
    "\n",
    "- In standard summation expressions and tensor networks, if an index appears\n",
    "  twice it is contracted, and if it appears once, it is an 'outer' index that\n",
    "  will be retained. Such a setup is assumed to be the default when contracting\n",
    "  tensors, and an error will be raised if an index is encountered more than\n",
    "  twice.\n",
    "- On the other hand, it is a perfectly valid 'sum-of-products-of-tensor-entries'\n",
    "  expression to have indices appear an arbitrary number of times.\n",
    "  It can be very beneficial to do so in fact. `quimb`\n",
    "  supports this, with the main difference being that you will have to\n",
    "  explicitly name the `output_inds` for contractions, which can no\n",
    "  longer be automatically inferred."
   ]
  },
  {
   "cell_type": "code",
   "execution_count": 54,
   "metadata": {},
   "outputs": [
    {
     "data": {
      "text/plain": [
       "Tensor(shape=(2, 2, 2), inds=('a', 'b', 'c'), tags=oset([]))"
      ]
     },
     "execution_count": 54,
     "metadata": {},
     "output_type": "execute_result"
    }
   ],
   "source": [
    "T1 = qtn.rand_tensor((2, 2), ('a', 'x'))\n",
    "T2 = qtn.rand_tensor((2, 2), ('b', 'x'))\n",
    "T3 = qtn.rand_tensor((2, 2), ('c', 'x'))\n",
    "\n",
    "# we'll get an error due to 'x' unless we specify output_inds\n",
    "qtn.tensor_contract(T1, T2, T3, output_inds=['a', 'b', 'c'])"
   ]
  },
  {
   "cell_type": "markdown",
   "metadata": {
    "raw_mimetype": "text/restructuredtext"
   },
   "source": [
    "The above has performed the summation:\n",
    "\n",
    "$$\n",
    "T[a, b, c] = \\sum_{x}  T_1[a, x] T_2[b, x] T_2[c, x]\n",
    "$$\n",
    "\n",
    "I.e. everything that doesn't appear in the `output_inds` is\n",
    "summed over and removed. Indices such as 'x' can be thought\n",
    "of as hyperedges:"
   ]
  },
  {
   "cell_type": "code",
   "execution_count": 55,
   "metadata": {},
   "outputs": [
    {
     "data": {
      "image/svg+xml": "<?xml version=\"1.0\" encoding=\"utf-8\" standalone=\"no\"?>\n<!DOCTYPE svg PUBLIC \"-//W3C//DTD SVG 1.1//EN\"\n  \"http://www.w3.org/Graphics/SVG/1.1/DTD/svg11.dtd\">\n<svg xmlns:xlink=\"http://www.w3.org/1999/xlink\" width=\"440.39952pt\" height=\"396.911998pt\" viewBox=\"0 0 440.39952 396.911998\" xmlns=\"http://www.w3.org/2000/svg\" version=\"1.1\">\n <metadata>\n  <rdf:RDF xmlns:dc=\"http://purl.org/dc/elements/1.1/\" xmlns:cc=\"http://creativecommons.org/ns#\" xmlns:rdf=\"http://www.w3.org/1999/02/22-rdf-syntax-ns#\">\n   <cc:Work>\n    <dc:type rdf:resource=\"http://purl.org/dc/dcmitype/StillImage\"/>\n    <dc:date>2022-12-05T17:22:48.249244</dc:date>\n    <dc:format>image/svg+xml</dc:format>\n    <dc:creator>\n     <cc:Agent>\n      <dc:title>Matplotlib v3.5.3, https://matplotlib.org/</dc:title>\n     </cc:Agent>\n    </dc:creator>\n   </cc:Work>\n  </rdf:RDF>\n </metadata>\n <defs>\n  <style type=\"text/css\">*{stroke-linejoin: round; stroke-linecap: butt}</style>\n </defs>\n <g id=\"figure_1\">\n  <g id=\"patch_1\">\n   <path d=\"M 0 396.911998 \nL 440.39952 396.911998 \nL 440.39952 0 \nL 0 0 \nL 0 396.911998 \nz\n\" style=\"fill: none; opacity: 0\"/>\n  </g>\n  <g id=\"axes_1\">\n   <g id=\"LineCollection_1\">\n    <path d=\"M 130.002063 297.450897 \nL 54.944284 340.209343 \n\" clip-path=\"url(#p4b85341b32)\" style=\"fill: none; stroke: #737880; stroke-opacity: 0.5\"/>\n    <path d=\"M 130.002063 297.450897 \nL 220.728772 245.847358 \n\" clip-path=\"url(#p4b85341b32)\" style=\"fill: none; stroke: #ff3333; stroke-opacity: 0.5\"/>\n    <path d=\"M 220.728772 245.847358 \nL 310.864646 298.399112 \n\" clip-path=\"url(#p4b85341b32)\" style=\"fill: none; stroke: #ff3333; stroke-opacity: 0.5\"/>\n    <path d=\"M 220.728772 245.847358 \nL 221.429095 141.395253 \n\" clip-path=\"url(#p4b85341b32)\" style=\"fill: none; stroke: #ff3333; stroke-opacity: 0.5\"/>\n    <path d=\"M 310.864646 298.399112 \nL 385.455236 341.967714 \n\" clip-path=\"url(#p4b85341b32)\" style=\"fill: none; stroke: #737880; stroke-opacity: 0.5\"/>\n    <path d=\"M 221.429095 141.395253 \nL 222.056025 54.944284 \n\" clip-path=\"url(#p4b85341b32)\" style=\"fill: none; stroke: #737880; stroke-opacity: 0.5\"/>\n   </g>\n   <g id=\"PathCollection_1\">\n    <path d=\"M 130.002063 308.214993 \nC 132.856735 308.214993 135.594871 307.08082 137.613429 305.062263 \nC 139.631986 303.043705 140.76616 300.305569 140.76616 297.450897 \nC 140.76616 294.596226 139.631986 291.85809 137.613429 289.839532 \nC 135.594871 287.820974 132.856735 286.686801 130.002063 286.686801 \nC 127.147392 286.686801 124.409256 287.820974 122.390698 289.839532 \nC 120.37214 291.85809 119.237967 294.596226 119.237967 297.450897 \nC 119.237967 300.305569 120.37214 303.043705 122.390698 305.062263 \nC 124.409256 307.08082 127.147392 308.214993 130.002063 308.214993 \nz\n\" clip-path=\"url(#p4b85341b32)\" style=\"fill: #737880; stroke: #5c6066; stroke-width: 3\"/>\n    <path d=\"M 310.864646 309.163208 \nC 313.719317 309.163208 316.457453 308.029035 318.476011 306.010477 \nC 320.494569 303.99192 321.628742 301.253784 321.628742 298.399112 \nC 321.628742 295.544441 320.494569 292.806305 318.476011 290.787747 \nC 316.457453 288.769189 313.719317 287.635016 310.864646 287.635016 \nC 308.009974 287.635016 305.271838 288.769189 303.25328 290.787747 \nC 301.234723 292.806305 300.10055 295.544441 300.10055 298.399112 \nC 300.10055 301.253784 301.234723 303.99192 303.25328 306.010477 \nC 305.271838 308.029035 308.009974 309.163208 310.864646 309.163208 \nz\n\" clip-path=\"url(#p4b85341b32)\" style=\"fill: #737880; stroke: #5c6066; stroke-width: 3\"/>\n    <path d=\"M 221.429095 152.159349 \nC 224.283767 152.159349 227.021903 151.025176 229.040461 149.006618 \nC 231.059018 146.98806 232.193191 144.249924 232.193191 141.395253 \nC 232.193191 138.540581 231.059018 135.802445 229.040461 133.783887 \nC 227.021903 131.76533 224.283767 130.631157 221.429095 130.631157 \nC 218.574424 130.631157 215.836288 131.76533 213.81773 133.783887 \nC 211.799172 135.802445 210.664999 138.540581 210.664999 141.395253 \nC 210.664999 144.249924 211.799172 146.98806 213.81773 149.006618 \nC 215.836288 151.025176 218.574424 152.159349 221.429095 152.159349 \nz\n\" clip-path=\"url(#p4b85341b32)\" style=\"fill: #737880; stroke: #5c6066; stroke-width: 3\"/>\n   </g>\n   <g id=\"PathCollection_2\">\n    <path d=\"M 54.944284 340.209343 \nC 54.944284 340.209343 54.944284 340.209343 54.944284 340.209343 \nC 54.944284 340.209343 54.944284 340.209343 54.944284 340.209343 \nC 54.944284 340.209343 54.944284 340.209343 54.944284 340.209343 \nC 54.944284 340.209343 54.944284 340.209343 54.944284 340.209343 \nC 54.944284 340.209343 54.944284 340.209343 54.944284 340.209343 \nC 54.944284 340.209343 54.944284 340.209343 54.944284 340.209343 \nC 54.944284 340.209343 54.944284 340.209343 54.944284 340.209343 \nC 54.944284 340.209343 54.944284 340.209343 54.944284 340.209343 \nz\n\" clip-path=\"url(#p4b85341b32)\" style=\"fill: #ffffff\"/>\n    <path d=\"M 220.728772 245.847358 \nC 220.728772 245.847358 220.728772 245.847358 220.728772 245.847358 \nC 220.728772 245.847358 220.728772 245.847358 220.728772 245.847358 \nC 220.728772 245.847358 220.728772 245.847358 220.728772 245.847358 \nC 220.728772 245.847358 220.728772 245.847358 220.728772 245.847358 \nC 220.728772 245.847358 220.728772 245.847358 220.728772 245.847358 \nC 220.728772 245.847358 220.728772 245.847358 220.728772 245.847358 \nC 220.728772 245.847358 220.728772 245.847358 220.728772 245.847358 \nC 220.728772 245.847358 220.728772 245.847358 220.728772 245.847358 \nz\n\" clip-path=\"url(#p4b85341b32)\" style=\"fill: #ffffff\"/>\n    <path d=\"M 385.455236 341.967714 \nC 385.455236 341.967714 385.455236 341.967714 385.455236 341.967714 \nC 385.455236 341.967714 385.455236 341.967714 385.455236 341.967714 \nC 385.455236 341.967714 385.455236 341.967714 385.455236 341.967714 \nC 385.455236 341.967714 385.455236 341.967714 385.455236 341.967714 \nC 385.455236 341.967714 385.455236 341.967714 385.455236 341.967714 \nC 385.455236 341.967714 385.455236 341.967714 385.455236 341.967714 \nC 385.455236 341.967714 385.455236 341.967714 385.455236 341.967714 \nC 385.455236 341.967714 385.455236 341.967714 385.455236 341.967714 \nz\n\" clip-path=\"url(#p4b85341b32)\" style=\"fill: #ffffff\"/>\n    <path d=\"M 222.056025 54.944284 \nC 222.056025 54.944284 222.056025 54.944284 222.056025 54.944284 \nC 222.056025 54.944284 222.056025 54.944284 222.056025 54.944284 \nC 222.056025 54.944284 222.056025 54.944284 222.056025 54.944284 \nC 222.056025 54.944284 222.056025 54.944284 222.056025 54.944284 \nC 222.056025 54.944284 222.056025 54.944284 222.056025 54.944284 \nC 222.056025 54.944284 222.056025 54.944284 222.056025 54.944284 \nC 222.056025 54.944284 222.056025 54.944284 222.056025 54.944284 \nC 222.056025 54.944284 222.056025 54.944284 222.056025 54.944284 \nz\n\" clip-path=\"url(#p4b85341b32)\" style=\"fill: #ffffff\"/>\n   </g>\n   <g id=\"text_1\">\n    <g clip-path=\"url(#p4b85341b32)\">\n     <!-- a -->\n     <g style=\"fill: #404040\" transform=\"translate(51.934128 342.995281)scale(0.1 -0.1)\">\n      <defs>\n       <path id=\"DejaVuSansMono-61\" d=\"M 2194 1759 \nL 2003 1759 \nQ 1500 1759 1245 1582 \nQ 991 1406 991 1056 \nQ 991 741 1181 566 \nQ 1372 391 1709 391 \nQ 2184 391 2456 720 \nQ 2728 1050 2731 1631 \nL 2731 1759 \nL 2194 1759 \nz\nM 3309 1997 \nL 3309 0 \nL 2731 0 \nL 2731 519 \nQ 2547 206 2267 57 \nQ 1988 -91 1588 -91 \nQ 1053 -91 734 211 \nQ 416 513 416 1019 \nQ 416 1603 808 1906 \nQ 1200 2209 1959 2209 \nL 2731 2209 \nL 2731 2300 \nQ 2728 2719 2518 2908 \nQ 2309 3097 1850 3097 \nQ 1556 3097 1256 3012 \nQ 956 2928 672 2766 \nL 672 3341 \nQ 991 3463 1283 3523 \nQ 1575 3584 1850 3584 \nQ 2284 3584 2592 3456 \nQ 2900 3328 3091 3072 \nQ 3209 2916 3259 2686 \nQ 3309 2456 3309 1997 \nz\n\" transform=\"scale(0.015625)\"/>\n      </defs>\n      <use xlink:href=\"#DejaVuSansMono-61\"/>\n     </g>\n    </g>\n   </g>\n   <g id=\"text_2\">\n    <g clip-path=\"url(#p4b85341b32)\">\n     <!-- c -->\n     <g style=\"fill: #404040\" transform=\"translate(219.045869 57.730222)scale(0.1 -0.1)\">\n      <defs>\n       <path id=\"DejaVuSansMono-63\" d=\"M 3316 178 \nQ 3084 44 2839 -23 \nQ 2594 -91 2338 -91 \nQ 1525 -91 1067 396 \nQ 609 884 609 1747 \nQ 609 2609 1067 3096 \nQ 1525 3584 2338 3584 \nQ 2591 3584 2831 3518 \nQ 3072 3453 3316 3316 \nL 3316 2713 \nQ 3088 2916 2858 3006 \nQ 2628 3097 2338 3097 \nQ 1797 3097 1506 2747 \nQ 1216 2397 1216 1747 \nQ 1216 1100 1508 748 \nQ 1800 397 2338 397 \nQ 2638 397 2875 489 \nQ 3113 581 3316 775 \nL 3316 178 \nz\n\" transform=\"scale(0.015625)\"/>\n      </defs>\n      <use xlink:href=\"#DejaVuSansMono-63\"/>\n     </g>\n    </g>\n   </g>\n   <g id=\"text_3\">\n    <g clip-path=\"url(#p4b85341b32)\">\n     <!-- b -->\n     <g style=\"fill: #404040\" transform=\"translate(382.445079 344.753651)scale(0.1 -0.1)\">\n      <defs>\n       <path id=\"DejaVuSansMono-62\" d=\"M 2869 1747 \nQ 2869 2416 2656 2756 \nQ 2444 3097 2028 3097 \nQ 1609 3097 1393 2755 \nQ 1178 2413 1178 1747 \nQ 1178 1084 1393 740 \nQ 1609 397 2028 397 \nQ 2444 397 2656 737 \nQ 2869 1078 2869 1747 \nz\nM 1178 3053 \nQ 1316 3309 1558 3446 \nQ 1800 3584 2119 3584 \nQ 2750 3584 3112 3098 \nQ 3475 2613 3475 1759 \nQ 3475 894 3111 401 \nQ 2747 -91 2113 -91 \nQ 1800 -91 1561 45 \nQ 1322 181 1178 441 \nL 1178 0 \nL 603 0 \nL 603 4863 \nL 1178 4863 \nL 1178 3053 \nz\n\" transform=\"scale(0.015625)\"/>\n      </defs>\n      <use xlink:href=\"#DejaVuSansMono-62\"/>\n     </g>\n    </g>\n   </g>\n  </g>\n </g>\n <defs>\n  <clipPath id=\"p4b85341b32\">\n   <rect x=\"7.2\" y=\"7.2\" width=\"425.99952\" height=\"382.511998\"/>\n  </clipPath>\n </defs>\n</svg>\n",
      "text/plain": [
       "<Figure size 600x600 with 1 Axes>"
      ]
     },
     "metadata": {},
     "output_type": "display_data"
    }
   ],
   "source": [
    "(T1 | T2 | T3).draw(highlight_inds=['x'])"
   ]
  },
  {
   "cell_type": "markdown",
   "metadata": {
    "raw_mimetype": "text/restructuredtext"
   },
   "source": [
    ":::{note}\n",
    "Contractions of 'standard' tensor networks can be performed just using\n",
    "pairwise 'matrix-multiplication equivalent' contractions,\n",
    "i.e. using {func}`~numpy.tensordot`. While 'hyper' tensor networks\n",
    "are still contracted using pairwise operations, these might require\n",
    "routines equivalent to 'batched-matrix-multiplication' and so\n",
    "{func}`~numpy.einsum`.\n",
    ":::"
   ]
  }
 ],
 "metadata": {
  "kernelspec": {
   "display_name": "Python 3.10.8 ('numpy')",
   "language": "python",
   "name": "python3"
  },
  "language_info": {
   "codemirror_mode": {
    "name": "ipython",
    "version": 3
   },
   "file_extension": ".py",
   "mimetype": "text/x-python",
   "name": "python",
   "nbconvert_exporter": "python",
   "pygments_lexer": "ipython3",
   "version": "3.10.8 (main, Nov  4 2022, 13:48:29) [GCC 11.2.0]"
  },
  "vscode": {
   "interpreter": {
    "hash": "39c10650315d977fb13868ea1402e99f3e10e9885c2c202e692ae90b8995050d"
   }
  }
 },
 "nbformat": 4,
 "nbformat_minor": 4
}
